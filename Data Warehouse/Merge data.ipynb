{
 "cells": [
  {
   "cell_type": "code",
   "execution_count": 1,
   "id": "3421fe13",
   "metadata": {},
   "outputs": [],
   "source": [
    "import pandas as pd "
   ]
  },
  {
   "cell_type": "code",
   "execution_count": 2,
   "id": "d327bfc6",
   "metadata": {},
   "outputs": [],
   "source": [
    "user_API = pd.read_csv(\"../Data Collection/Api_data/user.csv\")\n",
    "user_crawl = pd.read_csv(\"../Data Collection/Crawl_data/Bach Khoi/user.csv\")"
   ]
  },
  {
   "cell_type": "code",
   "execution_count": 3,
   "id": "926fb4bc",
   "metadata": {},
   "outputs": [],
   "source": [
    "user_API = user_API[['avatar_url', 'city', 'comments_count', 'country_code', 'created_at', 'followers_count', 'followings_count',\n",
    "                  'first_name', 'id', 'last_modified', 'last_name', 'likes_count', 'playlist_likes_count', 'permalink_url',\n",
    "                  'playlist_count', 'track_count', 'username', 'verified']]\n",
    "new_user = pd.concat([user_API,user_crawl]).drop_duplicates().reset_index(drop=True)"
   ]
  },
  {
   "cell_type": "code",
   "execution_count": 4,
   "id": "6705f749",
   "metadata": {},
   "outputs": [],
   "source": [
    "track_API = pd.read_csv(\"../Data Collection/Api_data/track.csv\")\n",
    "track_crawl = pd.read_csv(\"../Data Collection/Crawl_data/Bach Khoi/track.csv\")"
   ]
  },
  {
   "cell_type": "code",
   "execution_count": 5,
   "id": "cf2b75a0",
   "metadata": {},
   "outputs": [],
   "source": [
    "track_API = track_API[['artwork_url', 'commentable', 'comment_count', 'created_at', 'downloadable', 'download_count', 'duration', \n",
    "                   'full_duration', 'genre', 'has_downloads_left', 'id', 'last_modified', 'license', 'likes_count', \n",
    "                   'permalink_url', 'playback_count', 'purchase_title', 'purchase_url', 'release_date', 'reposts_count', \n",
    "                   'state', 'streamable', 'tag_list', 'title', 'user_id', 'visuals', 'waveform_url', 'policy']]\n",
    "new_track = pd.concat([track_API,track_crawl]).drop_duplicates().reset_index(drop=True)"
   ]
  },
  {
   "cell_type": "code",
   "execution_count": 6,
   "id": "94168ff4",
   "metadata": {},
   "outputs": [],
   "source": [
    "playlist_API = pd.read_csv(\"../Data Collection/Api_data/playlist.csv\")\n",
    "playlist_crawl = pd.read_csv(\"../Data Collection/Crawl_data/Bach Khoi/playlist.csv\")"
   ]
  },
  {
   "cell_type": "code",
   "execution_count": 7,
   "id": "b4daf7fb",
   "metadata": {},
   "outputs": [],
   "source": [
    "playlist_API = playlist_API[['artwork_url', 'created_at', 'duration', 'genre', 'id', 'label_name', 'last_modified', \n",
    "                       'license','likes_count', 'permalink_url', 'release_date', 'purchase_title', 'purchase_url', \n",
    "                       'reposts_count', 'tag_list', 'title', 'user_id', 'is_album', 'published_at', 'display_date', \n",
    "                       'track_count', 'tracks']]\n",
    "new_playlist = pd.concat([playlist_API,playlist_crawl]).drop_duplicates().reset_index(drop=True)"
   ]
  },
  {
   "cell_type": "code",
   "execution_count": 8,
   "id": "11703d7e",
   "metadata": {},
   "outputs": [],
   "source": [
    "new_user.to_csv(\"../Data Warehouse/user.csv\",index = False)\n",
    "new_track.to_csv(\"../Data Warehouse/track.csv\",index = False)\n",
    "new_playlist.to_csv(\"../Data Warehouse/playlist.csv\",index = False)"
   ]
  }
 ],
 "metadata": {
  "kernelspec": {
   "display_name": "Python 3 (ipykernel)",
   "language": "python",
   "name": "python3"
  },
  "language_info": {
   "codemirror_mode": {
    "name": "ipython",
    "version": 3
   },
   "file_extension": ".py",
   "mimetype": "text/x-python",
   "name": "python",
   "nbconvert_exporter": "python",
   "pygments_lexer": "ipython3",
   "version": "3.7.9"
  }
 },
 "nbformat": 4,
 "nbformat_minor": 5
}
