{
 "cells": [
  {
   "cell_type": "code",
   "execution_count": 1,
   "id": "d815c039",
   "metadata": {},
   "outputs": [],
   "source": [
    "import requests\n",
    "import requests_cache\n",
    "from bs4 import BeautifulSoup\n",
    "import time\n",
    "import json\n",
    "import re\n",
    "import numpy as np\n",
    "import pandas as pd # Dùng để đọc và hiển thị file csv/tsv\n",
    "from datetime import datetime, timedelta # Dùng để xử lý dữ liệu thời gian\n",
    "\n",
    "import urllib.robotparser # Kiểm tra file robot.txt có được phép crawl không"
   ]
  },
  {
   "cell_type": "code",
   "execution_count": 2,
   "id": "4a437f5a",
   "metadata": {},
   "outputs": [],
   "source": [
    "sleep_time = 1 # Đơn vị: giây"
   ]
  },
  {
   "cell_type": "code",
   "execution_count": 3,
   "id": "80c75e6a",
   "metadata": {},
   "outputs": [],
   "source": [
    "ignoreRes = lambda s: '\"incomplete_results\":true' not in s.text\n",
    "requests_cache.install_cache(expire_after=-1, filter_fn=ignoreRes)"
   ]
  },
  {
   "cell_type": "code",
   "execution_count": 69,
   "id": "7d1d4bf7",
   "metadata": {},
   "outputs": [],
   "source": [
    "def get_user_playlist(user_id_file, client_id):\n",
    "    \n",
    "    list_user_id = np.loadtxt(user_id_file, dtype=int) # User id list\n",
    "    \n",
    "    # Initialize playlist dataframe\n",
    "    playlist = pd.DataFrame(columns = ['id', 'title', 'genre', 'duration', 'likes_count', 'reposts_count', 'is_album', \\\n",
    "                                       'created_at','license', 'user_id', 'track_count', 'tracks', 'permalink_url'])\n",
    "    \n",
    "    # Attributes in the playlist dataframe (except tracks)\n",
    "    attributes = ['id', 'title', 'genre', 'duration', 'likes_count', 'reposts_count', 'is_album', \\\n",
    "                                       'created_at','license', 'user_id', 'track_count', 'permalink_url']\n",
    "\n",
    "    for user_id in list_user_id:    \n",
    "        # Get request with corresponding user_id\n",
    "        url = f'https://api-v2.soundcloud.com/users/{user_id}/playlists?client_id={client_id}'\n",
    "        print('Get:', url)\n",
    "        print('Status: Doing')\n",
    "        re = requests.get(url)\n",
    "        \n",
    "        # Loop for checking if can make a request\n",
    "        canGet = False\n",
    "        while not canGet:\n",
    "            # Sleep then make the request again\n",
    "            if not re.ok:\n",
    "                time.sleep(sleep_time)\n",
    "                re = requests.get(url)\n",
    "                print('Status: Not ok')\n",
    "                continue\n",
    "            \n",
    "            # Check request timeout\n",
    "            # If it is timeout, sleep then make the request again\n",
    "            if re.status_code == 504:\n",
    "                time.sleep(sleep_time)\n",
    "                re = requests.get(url)\n",
    "                print('Status: Timeout')\n",
    "                continue\n",
    "                \n",
    "            if re.status_code == 429:\n",
    "                print('Status: Exceeds an API rate limit')\n",
    "                return playlist\n",
    "                \n",
    "            # Convert Json string into python dictionary\n",
    "            json_pydata = json.loads(re.text)\n",
    "            \n",
    "            # Request is done\n",
    "            canGet = True\n",
    "            \n",
    "        print('Status: Done')\n",
    "            \n",
    "        # Loop each playlist of the user\n",
    "        for pl in json_pydata['collection']:\n",
    "            tracks = ','.join([str(track['id']) for track in pl['tracks']]) # List of tracks in the playlist\n",
    "            temp = {} # Temporary dictionary for storing the current playlist record\n",
    "            \n",
    "            # Get corresponding attributes into temp\n",
    "            for key in attributes:\n",
    "                temp[key] = pl[key]\n",
    "            temp['tracks'] = tracks\n",
    "            \n",
    "            # Append the record into the dataframe\n",
    "            playlist = playlist.append(temp, ignore_index=True)\n",
    "        \n",
    "    return playlist"
   ]
  },
  {
   "cell_type": "code",
   "execution_count": 61,
   "id": "6843980c",
   "metadata": {
    "scrolled": true
   },
   "outputs": [
    {
     "name": "stdout",
     "output_type": "stream",
     "text": [
      "Get: https://api-v2.soundcloud.com/users/630253005/playlists?client_id=3jXdkVwgGnCwmB9q5e7qkzpaVm4qjQSn\n",
      "Status: Doing\n",
      "Status: Done\n",
      "Get: https://api-v2.soundcloud.com/users/217441590/playlists?client_id=3jXdkVwgGnCwmB9q5e7qkzpaVm4qjQSn\n",
      "Status: Doing\n",
      "Status: Done\n",
      "Get: https://api-v2.soundcloud.com/users/324531068/playlists?client_id=3jXdkVwgGnCwmB9q5e7qkzpaVm4qjQSn\n",
      "Status: Doing\n",
      "Status: Done\n",
      "Get: https://api-v2.soundcloud.com/users/525378972/playlists?client_id=3jXdkVwgGnCwmB9q5e7qkzpaVm4qjQSn\n",
      "Status: Doing\n",
      "Status: Done\n",
      "Get: https://api-v2.soundcloud.com/users/9855085/playlists?client_id=3jXdkVwgGnCwmB9q5e7qkzpaVm4qjQSn\n",
      "Status: Doing\n",
      "Status: Done\n"
     ]
    }
   ],
   "source": [
    "playlist = get_user_playlist('user_id.txt', '3jXdkVwgGnCwmB9q5e7qkzpaVm4qjQSn')"
   ]
  },
  {
   "cell_type": "code",
   "execution_count": 66,
   "id": "8c497cc6",
   "metadata": {},
   "outputs": [],
   "source": [
    "playlist.to_csv('playlist.csv')"
   ]
  },
  {
   "cell_type": "code",
   "execution_count": 68,
   "id": "02ca1d6a",
   "metadata": {},
   "outputs": [
    {
     "data": {
      "text/plain": [
       "'892455691,957116236,976211350,946099066,897495985,970438177,967357153,895906489,900109261,899243821,934404841,941205094,891963100,967224013,933856318,954870745,941194555,897503062,908776954,893112202,934413991,892212892,923077897,897538789,897509917,933862858,899254099,893212930,932845966,921879709,908748367,991100677,991102207,991108795,991116748,1030613707,1052702341,1064463400,1068708337,1079393242,1085025850,1085036422,1085044366,1099822030,1099848658,1110645313,1112024071,1113868879,1113875530,1125733453,1125732607,1135898926'"
      ]
     },
     "execution_count": 68,
     "metadata": {},
     "output_type": "execute_result"
    }
   ],
   "source": [
    "df = pd.read_csv('playlist.csv')\n",
    "df.head()"
   ]
  }
 ],
 "metadata": {
  "kernelspec": {
   "display_name": "Python 3",
   "language": "python",
   "name": "python3"
  },
  "language_info": {
   "codemirror_mode": {
    "name": "ipython",
    "version": 3
   },
   "file_extension": ".py",
   "mimetype": "text/x-python",
   "name": "python",
   "nbconvert_exporter": "python",
   "pygments_lexer": "ipython3",
   "version": "3.9.4"
  }
 },
 "nbformat": 4,
 "nbformat_minor": 5
}
