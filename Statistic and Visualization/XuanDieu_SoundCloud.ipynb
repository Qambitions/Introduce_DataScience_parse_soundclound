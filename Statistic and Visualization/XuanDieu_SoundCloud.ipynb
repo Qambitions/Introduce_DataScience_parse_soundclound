{
 "cells": [
  {
   "cell_type": "code",
   "execution_count": 1,
   "id": "9d7e1627",
   "metadata": {},
   "outputs": [],
   "source": [
    "import pandas as pd\n",
    "import seaborn as sns\n",
    "import matplotlib.pyplot as plt"
   ]
  },
  {
   "cell_type": "markdown",
   "id": "5b7b5686",
   "metadata": {},
   "source": [
    "# Câu hỏi: Trong năm, thời gian nào được nhiều người đăng bài nhất? "
   ]
  },
  {
   "cell_type": "markdown",
   "id": "5ec13025",
   "metadata": {},
   "source": [
    "- **Câu hỏi đặt ra: Trong năm, thời gian nào được nhiều người đăng bài nhất?**\n",
    "  - Bảng dữ liệu cần sử dụng: `track`\n",
    "  - Các trường cần sử dụng: `created_at`\n",
    "  - Hướng giải quyết: Để có thể giải quyết câu hỏi, sẽ thống kê số bài hát mà người dùng đăng theo mỗi tháng dựa trên dữ liệu đã thu thập được. Trong bài này sẽ sử dụng `bar chart` để trực quan hoá dữ liệu. \n",
    "  - Dự đoán kết quả: Số bài hát mà người dùng đăng theo mỗi tháng sẽ không chênh lệch nhau quá nhiều. Hay nói cách khác, trong năm, số bài hát được đăng rải đều mỗi tháng.  "
   ]
  },
  {
   "cell_type": "markdown",
   "id": "099d0506",
   "metadata": {},
   "source": [
    "## Tiền xử lý dữ liệu\n",
    "Với câu hỏi trên, chúng ta sẽ tập trung xử lý: Tập dữ liệu `track` với trường `created_at`\n",
    "\n",
    "Tiến hành load dữ liệu từ file `csv` và lọc ra các trường cần thiết."
   ]
  },
  {
   "cell_type": "code",
   "execution_count": 2,
   "id": "7a0a9d5d",
   "metadata": {},
   "outputs": [],
   "source": [
    "df_track = pd.read_csv('./track.csv')\n",
    "df_track = df_track[['created_at']].reset_index(drop=True)"
   ]
  },
  {
   "cell_type": "code",
   "execution_count": 3,
   "id": "496000e6",
   "metadata": {},
   "outputs": [
    {
     "data": {
      "text/html": [
       "<div>\n",
       "<style scoped>\n",
       "    .dataframe tbody tr th:only-of-type {\n",
       "        vertical-align: middle;\n",
       "    }\n",
       "\n",
       "    .dataframe tbody tr th {\n",
       "        vertical-align: top;\n",
       "    }\n",
       "\n",
       "    .dataframe thead th {\n",
       "        text-align: right;\n",
       "    }\n",
       "</style>\n",
       "<table border=\"1\" class=\"dataframe\">\n",
       "  <thead>\n",
       "    <tr style=\"text-align: right;\">\n",
       "      <th></th>\n",
       "      <th>created_at</th>\n",
       "    </tr>\n",
       "  </thead>\n",
       "  <tbody>\n",
       "    <tr>\n",
       "      <th>0</th>\n",
       "      <td>2021-10-29T08:43:42Z</td>\n",
       "    </tr>\n",
       "    <tr>\n",
       "      <th>1</th>\n",
       "      <td>2021-10-15T09:37:00Z</td>\n",
       "    </tr>\n",
       "    <tr>\n",
       "      <th>2</th>\n",
       "      <td>2021-09-24T08:55:16Z</td>\n",
       "    </tr>\n",
       "    <tr>\n",
       "      <th>3</th>\n",
       "      <td>2021-09-17T07:35:14Z</td>\n",
       "    </tr>\n",
       "    <tr>\n",
       "      <th>4</th>\n",
       "      <td>2021-09-03T09:40:32Z</td>\n",
       "    </tr>\n",
       "    <tr>\n",
       "      <th>...</th>\n",
       "      <td>...</td>\n",
       "    </tr>\n",
       "    <tr>\n",
       "      <th>633011</th>\n",
       "      <td>2016-06-03T00:19:48Z</td>\n",
       "    </tr>\n",
       "    <tr>\n",
       "      <th>633012</th>\n",
       "      <td>2016-10-07T00:10:43Z</td>\n",
       "    </tr>\n",
       "    <tr>\n",
       "      <th>633013</th>\n",
       "      <td>2017-08-11T00:28:14Z</td>\n",
       "    </tr>\n",
       "    <tr>\n",
       "      <th>633014</th>\n",
       "      <td>2017-09-21T22:34:33Z</td>\n",
       "    </tr>\n",
       "    <tr>\n",
       "      <th>633015</th>\n",
       "      <td>2018-02-08T20:04:51Z</td>\n",
       "    </tr>\n",
       "  </tbody>\n",
       "</table>\n",
       "<p>633016 rows × 1 columns</p>\n",
       "</div>"
      ],
      "text/plain": [
       "                  created_at\n",
       "0       2021-10-29T08:43:42Z\n",
       "1       2021-10-15T09:37:00Z\n",
       "2       2021-09-24T08:55:16Z\n",
       "3       2021-09-17T07:35:14Z\n",
       "4       2021-09-03T09:40:32Z\n",
       "...                      ...\n",
       "633011  2016-06-03T00:19:48Z\n",
       "633012  2016-10-07T00:10:43Z\n",
       "633013  2017-08-11T00:28:14Z\n",
       "633014  2017-09-21T22:34:33Z\n",
       "633015  2018-02-08T20:04:51Z\n",
       "\n",
       "[633016 rows x 1 columns]"
      ]
     },
     "execution_count": 3,
     "metadata": {},
     "output_type": "execute_result"
    }
   ],
   "source": [
    "df_track"
   ]
  },
  {
   "cell_type": "markdown",
   "id": "1c063732",
   "metadata": {},
   "source": [
    "Vì trường `created at` được tạo mặc định bởi SoundCloud mỗi khi người dùng đăng bất kỳ bài hát nào, nên trường này không có missing_values. Vì thế chúng ta không xử lý drop missing_values ở trường `created at`"
   ]
  },
  {
   "cell_type": "markdown",
   "id": "ee5d3da3",
   "metadata": {},
   "source": [
    "## Phân tích dữ liệu \n",
    "Dựa vào trường `created_at`, ta sẽ xem xét số bài hát được đăng theo tháng. \n",
    "Các bước thực hiện:\n",
    "1. Tạo list `month_list` liệt kê số tháng có trong năm theo dạng '-01-'. Vì trường `created_at` có cách ghi kiểu dữ liệu ngày giờ theo chuẩn thời gian ISO 8601 (Ex: 2016-10-07T00:10:43Z), nên để lấy được tháng phải chọn cách lấy theo tháng như vậy ('-01-').\n",
    "2. Nhóm dữ liệu theo các tháng được liệt kê trong `month_list`. \n",
    "3. Với mỗi tháng, đếm số bài hát được đăng qua từng năm. \n",
    "4. Sử dụng **Bar chart** để trực quan hóa sự thay đổi này."
   ]
  },
  {
   "cell_type": "code",
   "execution_count": 5,
   "id": "fbecce1e",
   "metadata": {
    "scrolled": false
   },
   "outputs": [],
   "source": [
    "#Tạo list number_of_songs\n",
    "number_of_songs = [] \n",
    "\n",
    "#Tạo month_list để liệt kê các tháng theo dạng '-01-' \n",
    "month_list = ['-01-','-02-','-03-','-04-','-05-','-06-','-07-','-08-','-09-','-10-','-11-','-12-']\n",
    "\n",
    "#Đếm số bài hát được đăng qua trường 'created_at' trong tập dữ liệu track\n",
    "for month in month_list:\n",
    "    track = df_track.loc[df_track['created_at'].str.contains(month, case=False)]\n",
    "    number_of_songs.append(len(track.index))"
   ]
  },
  {
   "cell_type": "code",
   "execution_count": 6,
   "id": "864ababf",
   "metadata": {
    "scrolled": true
   },
   "outputs": [
    {
     "data": {
      "text/html": [
       "<div>\n",
       "<style scoped>\n",
       "    .dataframe tbody tr th:only-of-type {\n",
       "        vertical-align: middle;\n",
       "    }\n",
       "\n",
       "    .dataframe tbody tr th {\n",
       "        vertical-align: top;\n",
       "    }\n",
       "\n",
       "    .dataframe thead th {\n",
       "        text-align: right;\n",
       "    }\n",
       "</style>\n",
       "<table border=\"1\" class=\"dataframe\">\n",
       "  <thead>\n",
       "    <tr style=\"text-align: right;\">\n",
       "      <th></th>\n",
       "      <th>Month</th>\n",
       "      <th>Number of Songs</th>\n",
       "    </tr>\n",
       "  </thead>\n",
       "  <tbody>\n",
       "    <tr>\n",
       "      <th>0</th>\n",
       "      <td>01</td>\n",
       "      <td>51559</td>\n",
       "    </tr>\n",
       "    <tr>\n",
       "      <th>1</th>\n",
       "      <td>02</td>\n",
       "      <td>47795</td>\n",
       "    </tr>\n",
       "    <tr>\n",
       "      <th>2</th>\n",
       "      <td>03</td>\n",
       "      <td>53799</td>\n",
       "    </tr>\n",
       "    <tr>\n",
       "      <th>3</th>\n",
       "      <td>04</td>\n",
       "      <td>52697</td>\n",
       "    </tr>\n",
       "    <tr>\n",
       "      <th>4</th>\n",
       "      <td>05</td>\n",
       "      <td>55785</td>\n",
       "    </tr>\n",
       "    <tr>\n",
       "      <th>5</th>\n",
       "      <td>06</td>\n",
       "      <td>53347</td>\n",
       "    </tr>\n",
       "    <tr>\n",
       "      <th>6</th>\n",
       "      <td>07</td>\n",
       "      <td>55092</td>\n",
       "    </tr>\n",
       "    <tr>\n",
       "      <th>7</th>\n",
       "      <td>08</td>\n",
       "      <td>54145</td>\n",
       "    </tr>\n",
       "    <tr>\n",
       "      <th>8</th>\n",
       "      <td>09</td>\n",
       "      <td>55102</td>\n",
       "    </tr>\n",
       "    <tr>\n",
       "      <th>9</th>\n",
       "      <td>10</td>\n",
       "      <td>58389</td>\n",
       "    </tr>\n",
       "    <tr>\n",
       "      <th>10</th>\n",
       "      <td>11</td>\n",
       "      <td>50760</td>\n",
       "    </tr>\n",
       "    <tr>\n",
       "      <th>11</th>\n",
       "      <td>12</td>\n",
       "      <td>44546</td>\n",
       "    </tr>\n",
       "  </tbody>\n",
       "</table>\n",
       "</div>"
      ],
      "text/plain": [
       "   Month  Number of Songs\n",
       "0     01            51559\n",
       "1     02            47795\n",
       "2     03            53799\n",
       "3     04            52697\n",
       "4     05            55785\n",
       "5     06            53347\n",
       "6     07            55092\n",
       "7     08            54145\n",
       "8     09            55102\n",
       "9     10            58389\n",
       "10    11            50760\n",
       "11    12            44546"
      ]
     },
     "execution_count": 6,
     "metadata": {},
     "output_type": "execute_result"
    }
   ],
   "source": [
    "#Tạo data frame với 2 trường month và number_of_songs để thống kê số bài hát được đăng theo tháng \n",
    "month = ['01','02','03','04','05','06','07','08','09','10','11','12']\n",
    "data_df = pd.DataFrame(list(zip(month, number_of_songs)),\n",
    "               columns =['Month', 'Number of Songs'])\n",
    "data_df"
   ]
  },
  {
   "cell_type": "code",
   "execution_count": 8,
   "id": "68272c05",
   "metadata": {
    "scrolled": false
   },
   "outputs": [
    {
     "data": {
      "image/png": "[encoded data removed]",
      "text/plain": [
       "<Figure size 432x288 with 1 Axes>"
      ]
     },
     "metadata": {
      "needs_background": "light"
     },
     "output_type": "display_data"
    }
   ],
   "source": [
    "#Sử dụng bar chart để trực quan hoá dữ liệu \n",
    "ax = sns.barplot(x=\"Number of Songs\", y=\"Month\", data=data_df[[\"Month\",\"Number of Songs\"]],orient = \"h\")"
   ]
  },
  {
   "cell_type": "markdown",
   "id": "5ff6c6aa",
   "metadata": {},
   "source": [
    "Với các kết quả thu được, chúng ta có các nhận xét sau:\n",
    "- Khoảng thời gian từ tháng 5 đến tháng 10, có nhiều người đăng bài nhất. \n",
    "- Số bài hát được đăng trong mỗi tháng không có sự chênh lệch nhau quá nhiều (~40,000 - 60,000 bài hát trong mỗi tháng). "
   ]
  },
  {
   "cell_type": "markdown",
   "id": "ecd3f071",
   "metadata": {},
   "source": [
    "# Câu hỏi: Dòng nhạc nào được nhiều người thích nhất "
   ]
  },
  {
   "cell_type": "markdown",
   "id": "cb093547",
   "metadata": {},
   "source": [
    "- Tập dữ liệu sử dụng: `track`\n",
    "- Trường cần sử dụng: `genre`, `likes_count`\n",
    "- Kiểu dữ liệu mong đợi ở các trường: \n",
    "   - `genre`: strings \n",
    "   - `likes_count`: numerical \n",
    "- Vấn đề đặt ra: `genre` chứa missing values do người dùng tự định nghĩa genre và có thể không nhập. \n",
    "- Hướng giải quyết: Sử dụng **Bar chart** để trực quan hoá dữ liệu là dòng nhạc với số lượt thích tương ứng. \n",
    "- Dự đoán kết quả: Có thể là HipHop & Rap, Electronic vì 2 dòng nhạc này phổ biến không chỉ trên SoundCloud mà còn ở bất cứ platform nghe nhạc nào. "
   ]
  },
  {
   "cell_type": "markdown",
   "id": "aa0db522",
   "metadata": {},
   "source": [
    "## Tiền xử lý dữ liệu\n",
    "Với câu hỏi trên, chúng ta sẽ tập trung xử lý: Tập dữ liệu `track` với trường `genre` và `likes_count`\n",
    "\n",
    "Tiến hành load dữ liệu từ file `csv` và lọc ra các trường cần thiết."
   ]
  },
  {
   "cell_type": "code",
   "execution_count": 9,
   "id": "48289b18",
   "metadata": {},
   "outputs": [
    {
     "data": {
      "text/html": [
       "<div>\n",
       "<style scoped>\n",
       "    .dataframe tbody tr th:only-of-type {\n",
       "        vertical-align: middle;\n",
       "    }\n",
       "\n",
       "    .dataframe tbody tr th {\n",
       "        vertical-align: top;\n",
       "    }\n",
       "\n",
       "    .dataframe thead th {\n",
       "        text-align: right;\n",
       "    }\n",
       "</style>\n",
       "<table border=\"1\" class=\"dataframe\">\n",
       "  <thead>\n",
       "    <tr style=\"text-align: right;\">\n",
       "      <th></th>\n",
       "      <th>genre</th>\n",
       "      <th>likes_count</th>\n",
       "    </tr>\n",
       "  </thead>\n",
       "  <tbody>\n",
       "    <tr>\n",
       "      <th>0</th>\n",
       "      <td>Dance &amp; EDM</td>\n",
       "      <td>49.0</td>\n",
       "    </tr>\n",
       "    <tr>\n",
       "      <th>1</th>\n",
       "      <td>Dance &amp; EDM</td>\n",
       "      <td>87.0</td>\n",
       "    </tr>\n",
       "    <tr>\n",
       "      <th>2</th>\n",
       "      <td>Chill Out</td>\n",
       "      <td>129.0</td>\n",
       "    </tr>\n",
       "    <tr>\n",
       "      <th>3</th>\n",
       "      <td>Dance &amp; EDM</td>\n",
       "      <td>380.0</td>\n",
       "    </tr>\n",
       "    <tr>\n",
       "      <th>4</th>\n",
       "      <td>Dance &amp; EDM</td>\n",
       "      <td>356.0</td>\n",
       "    </tr>\n",
       "    <tr>\n",
       "      <th>...</th>\n",
       "      <td>...</td>\n",
       "      <td>...</td>\n",
       "    </tr>\n",
       "    <tr>\n",
       "      <th>633011</th>\n",
       "      <td>Tecnologia</td>\n",
       "      <td>NaN</td>\n",
       "    </tr>\n",
       "    <tr>\n",
       "      <th>633012</th>\n",
       "      <td>Negócio</td>\n",
       "      <td>NaN</td>\n",
       "    </tr>\n",
       "    <tr>\n",
       "      <th>633013</th>\n",
       "      <td>Negócios</td>\n",
       "      <td>NaN</td>\n",
       "    </tr>\n",
       "    <tr>\n",
       "      <th>633014</th>\n",
       "      <td>Negócios</td>\n",
       "      <td>NaN</td>\n",
       "    </tr>\n",
       "    <tr>\n",
       "      <th>633015</th>\n",
       "      <td>Aprendizado</td>\n",
       "      <td>NaN</td>\n",
       "    </tr>\n",
       "  </tbody>\n",
       "</table>\n",
       "<p>633016 rows × 2 columns</p>\n",
       "</div>"
      ],
      "text/plain": [
       "              genre  likes_count\n",
       "0       Dance & EDM         49.0\n",
       "1       Dance & EDM         87.0\n",
       "2         Chill Out        129.0\n",
       "3       Dance & EDM        380.0\n",
       "4       Dance & EDM        356.0\n",
       "...             ...          ...\n",
       "633011   Tecnologia          NaN\n",
       "633012      Negócio          NaN\n",
       "633013     Negócios          NaN\n",
       "633014     Negócios          NaN\n",
       "633015  Aprendizado          NaN\n",
       "\n",
       "[633016 rows x 2 columns]"
      ]
     },
     "execution_count": 9,
     "metadata": {},
     "output_type": "execute_result"
    }
   ],
   "source": [
    "df_track = pd.read_csv('./track.csv')\n",
    "df_track = df_track[['genre','likes_count']].reset_index(drop=True)\n",
    "df_track"
   ]
  },
  {
   "cell_type": "markdown",
   "id": "f9df3d10",
   "metadata": {},
   "source": [
    "### Giá trị thiếu (Missing Values)\n",
    "Tiếp theo, chúng ta sẽ tiến hành xử lý dữ liệu thiếu. Đầu tiên, chúng ta sẽ xem xét xem trường nào bị thiếu, thiếu bao nhiêu và chiếm bao nhiêu phần trăm dữ liệu."
   ]
  },
  {
   "cell_type": "code",
   "execution_count": 10,
   "id": "0f6f9560",
   "metadata": {
    "scrolled": false
   },
   "outputs": [
    {
     "data": {
      "text/html": [
       "<div>\n",
       "<style scoped>\n",
       "    .dataframe tbody tr th:only-of-type {\n",
       "        vertical-align: middle;\n",
       "    }\n",
       "\n",
       "    .dataframe tbody tr th {\n",
       "        vertical-align: top;\n",
       "    }\n",
       "\n",
       "    .dataframe thead th {\n",
       "        text-align: right;\n",
       "    }\n",
       "</style>\n",
       "<table border=\"1\" class=\"dataframe\">\n",
       "  <thead>\n",
       "    <tr style=\"text-align: right;\">\n",
       "      <th></th>\n",
       "      <th>Số lượng</th>\n",
       "      <th>Phần trăm</th>\n",
       "    </tr>\n",
       "  </thead>\n",
       "  <tbody>\n",
       "    <tr>\n",
       "      <th>genre</th>\n",
       "      <td>109085</td>\n",
       "      <td>17.232582</td>\n",
       "    </tr>\n",
       "    <tr>\n",
       "      <th>likes_count</th>\n",
       "      <td>33955</td>\n",
       "      <td>5.364003</td>\n",
       "    </tr>\n",
       "  </tbody>\n",
       "</table>\n",
       "</div>"
      ],
      "text/plain": [
       "             Số lượng  Phần trăm\n",
       "genre          109085  17.232582\n",
       "likes_count     33955   5.364003"
      ]
     },
     "execution_count": 10,
     "metadata": {},
     "output_type": "execute_result"
    }
   ],
   "source": [
    "# Track\n",
    "track_mv = pd.DataFrame()\n",
    "track_mv['Số lượng'] = df_track.isna().sum().values\n",
    "track_mv['Phần trăm'] = track_mv['Số lượng'].apply(lambda val: val/df_track.shape[0] * 100)\n",
    "track_mv.index = df_track.columns\n",
    "\n",
    "track_mv"
   ]
  },
  {
   "cell_type": "markdown",
   "id": "ce999a8c",
   "metadata": {},
   "source": [
    "Tiếp theo, chúng ta sẽ tiến hành phân tích các trường và đưa ra cách giải quyết phù hợp:\n",
    "- `genre`: thuộc kiểu categorical $\\rightarrow$ chỉ chiếm khoảng 17% và chúng ta không thể phân tích gì được với thể loại nhạc không xác định, cho nên với trường này chúng ta sẽ tiên hành drop các missing values.\n",
    "- `likes_count`: thuộc kiểu numerical $\\rightarrow$ tương tự như trường `genre`, chúng ta sẽ drop các missing values."
   ]
  },
  {
   "cell_type": "code",
   "execution_count": 11,
   "id": "4289ac64",
   "metadata": {},
   "outputs": [],
   "source": [
    "# Drop mv ở trường genre và playback_count\n",
    "df_track.dropna(inplace=True) "
   ]
  },
  {
   "cell_type": "code",
   "execution_count": 12,
   "id": "79fd88bc",
   "metadata": {
    "scrolled": false
   },
   "outputs": [
    {
     "data": {
      "text/html": [
       "<div>\n",
       "<style scoped>\n",
       "    .dataframe tbody tr th:only-of-type {\n",
       "        vertical-align: middle;\n",
       "    }\n",
       "\n",
       "    .dataframe tbody tr th {\n",
       "        vertical-align: top;\n",
       "    }\n",
       "\n",
       "    .dataframe thead th {\n",
       "        text-align: right;\n",
       "    }\n",
       "</style>\n",
       "<table border=\"1\" class=\"dataframe\">\n",
       "  <thead>\n",
       "    <tr style=\"text-align: right;\">\n",
       "      <th></th>\n",
       "      <th>Số lượng</th>\n",
       "      <th>Phần trăm</th>\n",
       "    </tr>\n",
       "  </thead>\n",
       "  <tbody>\n",
       "    <tr>\n",
       "      <th>genre</th>\n",
       "      <td>0</td>\n",
       "      <td>0.0</td>\n",
       "    </tr>\n",
       "    <tr>\n",
       "      <th>likes_count</th>\n",
       "      <td>0</td>\n",
       "      <td>0.0</td>\n",
       "    </tr>\n",
       "  </tbody>\n",
       "</table>\n",
       "</div>"
      ],
      "text/plain": [
       "             Số lượng  Phần trăm\n",
       "genre               0        0.0\n",
       "likes_count         0        0.0"
      ]
     },
     "execution_count": 12,
     "metadata": {},
     "output_type": "execute_result"
    }
   ],
   "source": [
    "# Track\n",
    "track_mv = pd.DataFrame()\n",
    "track_mv['Số lượng'] = df_track.isna().sum().values\n",
    "track_mv['Phần trăm'] = track_mv['Số lượng'].apply(lambda val: val/df_track.shape[0] * 100)\n",
    "track_mv.index = df_track.columns\n",
    "\n",
    "track_mv"
   ]
  },
  {
   "cell_type": "markdown",
   "id": "620487eb",
   "metadata": {},
   "source": [
    "### Xử lý dữ liệu nhiễu\n",
    "Chúng ta xem qua dữ liệu trường `genre` của `df_track` "
   ]
  },
  {
   "cell_type": "code",
   "execution_count": 14,
   "id": "0c2eedf7",
   "metadata": {
    "scrolled": true
   },
   "outputs": [
    {
     "data": {
      "text/plain": [
       "Electronic        42472\n",
       "Dance & EDM       37444\n",
       "House             31728\n",
       "Techno            20481\n",
       "Hip-hop & Rap     18706\n",
       "                  ...  \n",
       "Sakuzyo               1\n",
       "DripHop               1\n",
       "pharaoh_flip          1\n",
       "Jentrify              1\n",
       "хорошая музыка        1\n",
       "Name: genre, Length: 41729, dtype: int64"
      ]
     },
     "execution_count": 14,
     "metadata": {},
     "output_type": "execute_result"
    }
   ],
   "source": [
    "df_track.genre.value_counts()"
   ]
  },
  {
   "cell_type": "markdown",
   "id": "71446094",
   "metadata": {},
   "source": [
    "Ta nhận thấy có một vài trường hợp người dùng tự định nghĩa genre của bài hát, nên ta sẽ sử dụng các genre có trên **3000** record. "
   ]
  },
  {
   "cell_type": "code",
   "execution_count": 16,
   "id": "ac52b98e",
   "metadata": {
    "scrolled": false
   },
   "outputs": [
    {
     "data": {
      "text/html": [
       "<div>\n",
       "<style scoped>\n",
       "    .dataframe tbody tr th:only-of-type {\n",
       "        vertical-align: middle;\n",
       "    }\n",
       "\n",
       "    .dataframe tbody tr th {\n",
       "        vertical-align: top;\n",
       "    }\n",
       "\n",
       "    .dataframe thead th {\n",
       "        text-align: right;\n",
       "    }\n",
       "</style>\n",
       "<table border=\"1\" class=\"dataframe\">\n",
       "  <thead>\n",
       "    <tr style=\"text-align: right;\">\n",
       "      <th></th>\n",
       "      <th>All_Genre</th>\n",
       "      <th>counts</th>\n",
       "    </tr>\n",
       "  </thead>\n",
       "  <tbody>\n",
       "    <tr>\n",
       "      <th>0</th>\n",
       "      <td>Electronic</td>\n",
       "      <td>42472</td>\n",
       "    </tr>\n",
       "    <tr>\n",
       "      <th>1</th>\n",
       "      <td>Dance &amp; EDM</td>\n",
       "      <td>37444</td>\n",
       "    </tr>\n",
       "    <tr>\n",
       "      <th>2</th>\n",
       "      <td>House</td>\n",
       "      <td>31728</td>\n",
       "    </tr>\n",
       "    <tr>\n",
       "      <th>3</th>\n",
       "      <td>Techno</td>\n",
       "      <td>20481</td>\n",
       "    </tr>\n",
       "    <tr>\n",
       "      <th>4</th>\n",
       "      <td>Hip-hop &amp; Rap</td>\n",
       "      <td>18706</td>\n",
       "    </tr>\n",
       "    <tr>\n",
       "      <th>5</th>\n",
       "      <td>Dubstep</td>\n",
       "      <td>16621</td>\n",
       "    </tr>\n",
       "    <tr>\n",
       "      <th>6</th>\n",
       "      <td>Deep House</td>\n",
       "      <td>15891</td>\n",
       "    </tr>\n",
       "    <tr>\n",
       "      <th>7</th>\n",
       "      <td>Drum &amp; Bass</td>\n",
       "      <td>15283</td>\n",
       "    </tr>\n",
       "    <tr>\n",
       "      <th>8</th>\n",
       "      <td>Dance</td>\n",
       "      <td>13457</td>\n",
       "    </tr>\n",
       "    <tr>\n",
       "      <th>9</th>\n",
       "      <td>Trap</td>\n",
       "      <td>10111</td>\n",
       "    </tr>\n",
       "    <tr>\n",
       "      <th>10</th>\n",
       "      <td>Pop</td>\n",
       "      <td>8737</td>\n",
       "    </tr>\n",
       "    <tr>\n",
       "      <th>11</th>\n",
       "      <td>Ambient</td>\n",
       "      <td>5931</td>\n",
       "    </tr>\n",
       "    <tr>\n",
       "      <th>12</th>\n",
       "      <td>Trance</td>\n",
       "      <td>5843</td>\n",
       "    </tr>\n",
       "    <tr>\n",
       "      <th>13</th>\n",
       "      <td>Soundtrack</td>\n",
       "      <td>5724</td>\n",
       "    </tr>\n",
       "    <tr>\n",
       "      <th>14</th>\n",
       "      <td>Rock</td>\n",
       "      <td>5440</td>\n",
       "    </tr>\n",
       "    <tr>\n",
       "      <th>15</th>\n",
       "      <td>Progressive House</td>\n",
       "      <td>4565</td>\n",
       "    </tr>\n",
       "    <tr>\n",
       "      <th>16</th>\n",
       "      <td>Tech House</td>\n",
       "      <td>4488</td>\n",
       "    </tr>\n",
       "    <tr>\n",
       "      <th>17</th>\n",
       "      <td>Disco</td>\n",
       "      <td>4338</td>\n",
       "    </tr>\n",
       "    <tr>\n",
       "      <th>18</th>\n",
       "      <td>R&amp;B &amp; Soul</td>\n",
       "      <td>4017</td>\n",
       "    </tr>\n",
       "    <tr>\n",
       "      <th>19</th>\n",
       "      <td>Alternative Rock</td>\n",
       "      <td>3075</td>\n",
       "    </tr>\n",
       "    <tr>\n",
       "      <th>20</th>\n",
       "      <td>Indie</td>\n",
       "      <td>3029</td>\n",
       "    </tr>\n",
       "  </tbody>\n",
       "</table>\n",
       "</div>"
      ],
      "text/plain": [
       "            All_Genre  counts\n",
       "0          Electronic   42472\n",
       "1         Dance & EDM   37444\n",
       "2               House   31728\n",
       "3              Techno   20481\n",
       "4       Hip-hop & Rap   18706\n",
       "5             Dubstep   16621\n",
       "6          Deep House   15891\n",
       "7         Drum & Bass   15283\n",
       "8               Dance   13457\n",
       "9                Trap   10111\n",
       "10                Pop    8737\n",
       "11            Ambient    5931\n",
       "12             Trance    5843\n",
       "13         Soundtrack    5724\n",
       "14               Rock    5440\n",
       "15  Progressive House    4565\n",
       "16         Tech House    4488\n",
       "17              Disco    4338\n",
       "18         R&B & Soul    4017\n",
       "19   Alternative Rock    3075\n",
       "20              Indie    3029"
      ]
     },
     "execution_count": 16,
     "metadata": {},
     "output_type": "execute_result"
    }
   ],
   "source": [
    "#Tiến hành filter dữ liệu, chỉ lấy các genre có trên 3000 records và lưu vào df mới có tên là popular_genre\n",
    "all_genre = df_track[\"genre\"].value_counts()\n",
    "all_genre = all_genre.reset_index()\n",
    "all_genre.columns = ['All_Genre','counts']\n",
    "popular_genre=all_genre[all_genre.counts > 3000].copy()\n",
    "popular_genre"
   ]
  },
  {
   "cell_type": "markdown",
   "id": "428e6d74",
   "metadata": {},
   "source": [
    "Ta sẽ sử dụng df `popular_genre` để xử lý câu hỏi được đặt ra "
   ]
  },
  {
   "cell_type": "markdown",
   "id": "dd139007",
   "metadata": {},
   "source": [
    "## Phân tích dữ liệu \n",
    "Dựa vào trường `genre` và `likes_count`, ta sẽ xem xét dòng nhạc nào có nhiều lượt thích nhất, từ đó sẽ kết luận được dòng nhạc nào sẽ có nhiều người thích. \n",
    "\n",
    "Các bước thực hiện:\n",
    "1. Đầu tiên, ta tạo list `genre_list` được chuyển đổi từ df `popular_genre`. \n",
    "2. Sử dụng `genre_list` để tính tổng số lượt likes của của từng `genre` dựa trên `likes_count` trong df `df_track` ban đầu. \n",
    "3. Sử dụng **Bar chart** để trực quan hoá dữ liệu"
   ]
  },
  {
   "cell_type": "code",
   "execution_count": 17,
   "id": "c9219129",
   "metadata": {},
   "outputs": [
    {
     "data": {
      "text/plain": [
       "['Electronic',\n",
       " 'Dance & EDM',\n",
       " 'House',\n",
       " 'Techno',\n",
       " 'Hip-hop & Rap',\n",
       " 'Dubstep',\n",
       " 'Deep House',\n",
       " 'Drum & Bass',\n",
       " 'Dance',\n",
       " 'Trap',\n",
       " 'Pop',\n",
       " 'Ambient',\n",
       " 'Trance',\n",
       " 'Soundtrack',\n",
       " 'Rock',\n",
       " 'Progressive House',\n",
       " 'Tech House',\n",
       " 'Disco',\n",
       " 'R&B & Soul',\n",
       " 'Alternative Rock',\n",
       " 'Indie']"
      ]
     },
     "execution_count": 17,
     "metadata": {},
     "output_type": "execute_result"
    }
   ],
   "source": [
    "#Tạo list genre_list\n",
    "genre_list = popular_genre['All_Genre'].tolist() \n",
    "genre_list"
   ]
  },
  {
   "cell_type": "code",
   "execution_count": 18,
   "id": "33f91c16",
   "metadata": {
    "scrolled": true
   },
   "outputs": [
    {
     "ename": "NameError",
     "evalue": "name 'df' is not defined",
     "output_type": "error",
     "traceback": [
      "\u001b[0;31m---------------------------------------------------------------------------\u001b[0m",
      "\u001b[0;31mNameError\u001b[0m                                 Traceback (most recent call last)",
      "\u001b[0;32m/var/folders/xc/w8pfz16548l5qck2lpn0b8_r0000gn/T/ipykernel_5625/871358576.py\u001b[0m in \u001b[0;36m<module>\u001b[0;34m\u001b[0m\n\u001b[1;32m      4\u001b[0m \u001b[0;31m#Tính tổng số lượt likes của mỗi genre\u001b[0m\u001b[0;34m\u001b[0m\u001b[0;34m\u001b[0m\u001b[0;34m\u001b[0m\u001b[0m\n\u001b[1;32m      5\u001b[0m \u001b[0;32mfor\u001b[0m \u001b[0mgenre\u001b[0m \u001b[0;32min\u001b[0m \u001b[0mgenre_list\u001b[0m\u001b[0;34m:\u001b[0m\u001b[0;34m\u001b[0m\u001b[0;34m\u001b[0m\u001b[0m\n\u001b[0;32m----> 6\u001b[0;31m     \u001b[0msum_genre\u001b[0m \u001b[0;34m=\u001b[0m \u001b[0mdf\u001b[0m\u001b[0;34m[\u001b[0m\u001b[0mdf\u001b[0m\u001b[0;34m[\u001b[0m\u001b[0;34m'genre'\u001b[0m\u001b[0;34m]\u001b[0m\u001b[0;34m==\u001b[0m\u001b[0mgenre\u001b[0m\u001b[0;34m]\u001b[0m\u001b[0;34m[\u001b[0m\u001b[0;34m'likes_count'\u001b[0m\u001b[0;34m]\u001b[0m\u001b[0;34m.\u001b[0m\u001b[0msum\u001b[0m\u001b[0;34m(\u001b[0m\u001b[0;34m)\u001b[0m\u001b[0;34m\u001b[0m\u001b[0;34m\u001b[0m\u001b[0m\n\u001b[0m\u001b[1;32m      7\u001b[0m     \u001b[0mlikes_countList\u001b[0m\u001b[0;34m.\u001b[0m\u001b[0mappend\u001b[0m\u001b[0;34m(\u001b[0m\u001b[0msum_genre\u001b[0m\u001b[0;34m)\u001b[0m\u001b[0;34m\u001b[0m\u001b[0;34m\u001b[0m\u001b[0m\n\u001b[1;32m      8\u001b[0m \u001b[0;31m#Merge dữ liệu số lượt likes vào df popular_genre\u001b[0m\u001b[0;34m\u001b[0m\u001b[0;34m\u001b[0m\u001b[0;34m\u001b[0m\u001b[0m\n",
      "\u001b[0;31mNameError\u001b[0m: name 'df' is not defined"
     ]
    }
   ],
   "source": [
    "#Tạo likes_countList \n",
    "likes_countList = []\n",
    "\n",
    "#Tính tổng số lượt likes của mỗi genre \n",
    "for genre in genre_list:\n",
    "    sum_genre = df[df['genre']==genre]['likes_count'].sum() \n",
    "    likes_countList.append(sum_genre)\n",
    "#Merge dữ liệu số lượt likes vào df popular_genre \n",
    "popular_genre[\"genre_likes\"] = likes_countList\n",
    "popular_genre"
   ]
  },
  {
   "cell_type": "code",
   "execution_count": null,
   "id": "15ca3adb",
   "metadata": {
    "scrolled": true
   },
   "outputs": [],
   "source": [
    "#Sử dụng bar chart để trực quan hoá dữ liệu \n",
    "ax = sns.barplot(x=\"genre_likes\", y=\"All_Genre\", data=popular_genre[[\"All_Genre\",\"genre_likes\"]],orient = \"h\")\n",
    "plt.title(\"Biểu đồ bar chart thống kê tổng lượt likes của các genre\")"
   ]
  },
  {
   "cell_type": "markdown",
   "id": "19dcbe98",
   "metadata": {},
   "source": [
    "Với những gì thu thập được, ta có vài nhận xét như sau: \n",
    "- Dễ dàng thấy số lượt likes của Hip-hop & Rap có lượt likes cao nhất trong tất cả các genre, có thể vì lý do sau: \n",
    "    - Có thể vì **Hip-hop & Rap** là một trong những genre đã xuất hiện từ rất lâu, hiện vẫn rất thịnh hành và được ưa chuộng tại Mỹ & các nước Châu Âu (vốn dĩ là các thị trường âm nhạc lớn và lượng người sử dụng SoundCloud khá nhiều), thậm chí là ở các nước Châu Á.\n",
    "    - Số lượng người sử dụng SoundCloud để **đăng bài hát** đa phần là các nghệ sĩ Underground sử dụng genre **Hip Hop & Rap**. Bên cạnh đó, lượng người sử dụng SoundCloud để **nghe bài hát** phần lớn cũng là cụm khán giả thích loại genre này.\n",
    "    \n",
    "- Số lượng bài hát của genre Electronic khá lớn (Chiếm 1/10 số lượng bài hát trong tệp dữ liệu đang xét) nhưng lượt likes ít hơn so với Hip-hop & Rap. \n",
    "    - Vì số nghệ sĩ đăng bài ở genre Electronic nhiều nhưng lượng người dùng SoundCloud thích và nghe các bài hát ở genre này không quá nhiều.\n",
    "\n",
    "Ta có thể thống kê thêm lượt thích trung bình ở các bài hát trong 1 genre để có cái nhìn chi tiết hơn, như sau: "
   ]
  },
  {
   "cell_type": "code",
   "execution_count": null,
   "id": "081583b3",
   "metadata": {},
   "outputs": [],
   "source": [
    "#Để tính lượt thích trong bình ở mỗi bài hát trong từng genre\n",
    "#Ta lấy số likes của mỗi genre chia cho số bài hát trong mỗi genre\n",
    "popular_genre[\"Average\"]=popular_genre[\"genre_likes\"]/popular_genre[\"counts\"]"
   ]
  },
  {
   "cell_type": "code",
   "execution_count": null,
   "id": "7597014d",
   "metadata": {
    "scrolled": true
   },
   "outputs": [],
   "source": [
    "popular_genre"
   ]
  },
  {
   "cell_type": "code",
   "execution_count": null,
   "id": "579bdf8f",
   "metadata": {
    "scrolled": false
   },
   "outputs": [],
   "source": [
    "#Biểu đồ bar chart\n",
    "ax = sns.barplot(x=\"Average\", y=\"All_Genre\", data=popular_genre[[\"All_Genre\",\"Average\"]],orient = \"h\")\n",
    "plt.title(\"Biểu đồ bar chart thống kê lượt likes trung bình của các bài hát trong một genre\")"
   ]
  },
  {
   "cell_type": "markdown",
   "id": "75808345",
   "metadata": {},
   "source": [
    "Với kết quả trên, ta có nhận xét như sau: \n",
    "- Lượng người thích **Alternative Rock** trên SoundCloud không quá cao nhưng lượt likes trung bình mỗi bài hát rất nhiều. \n",
    "    - Lý do có thể là lượng người sử dụng SoundCloud để nghe bài hát rất thích loại genre này nhưng số nghệ sĩ đăng bài ở genre này trên SoundCloud rất ít. "
   ]
  }
 ],
 "metadata": {
  "kernelspec": {
   "display_name": "Python 3 (ipykernel)",
   "language": "python",
   "name": "python3"
  },
  "language_info": {
   "codemirror_mode": {
    "name": "ipython",
    "version": 3
   },
   "file_extension": ".py",
   "mimetype": "text/x-python",
   "name": "python",
   "nbconvert_exporter": "python",
   "pygments_lexer": "ipython3",
   "version": "3.8.8"
  }
 },
 "nbformat": 4,
 "nbformat_minor": 5
}
