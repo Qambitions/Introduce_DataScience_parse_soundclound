{
 "cells": [
  {
   "cell_type": "markdown",
   "id": "17159319",
   "metadata": {
    "toc": true
   },
   "source": [
    "<h1>Table of Contents<span class=\"tocSkip\"></span></h1>\n",
    "<div class=\"toc\"><ul class=\"toc-item\"><li><span><a href=\"#Các-thư-viện-sử-dụng\" data-toc-modified-id=\"Các-thư-viện-sử-dụng-1\"><span class=\"toc-item-num\">1&nbsp;&nbsp;</span>Các thư viện sử dụng</a></span></li><li><span><a href=\"#Danh-sách-kiểm-tra-phân-tích-dữ-liệu\" data-toc-modified-id=\"Danh-sách-kiểm-tra-phân-tích-dữ-liệu-2\"><span class=\"toc-item-num\">2&nbsp;&nbsp;</span>Danh sách kiểm tra phân tích dữ liệu</a></span></li><li><span><a href=\"#Tiền-xử-lý-dữ-liệu\" data-toc-modified-id=\"Tiền-xử-lý-dữ-liệu-3\"><span class=\"toc-item-num\">3&nbsp;&nbsp;</span>Tiền xử lý dữ liệu</a></span><ul class=\"toc-item\"><li><span><a href=\"#Sai-kiểu-dữ-liệu\" data-toc-modified-id=\"Sai-kiểu-dữ-liệu-3.1\"><span class=\"toc-item-num\">3.1&nbsp;&nbsp;</span>Sai kiểu dữ liệu</a></span></li><li><span><a href=\"#Giá-trị-thiếu-(missing-values)\" data-toc-modified-id=\"Giá-trị-thiếu-(missing-values)-3.2\"><span class=\"toc-item-num\">3.2&nbsp;&nbsp;</span>Giá trị thiếu (missing values)</a></span></li><li><span><a href=\"#Xử-lý-dữ-liệu-nhiễu\" data-toc-modified-id=\"Xử-lý-dữ-liệu-nhiễu-3.3\"><span class=\"toc-item-num\">3.3&nbsp;&nbsp;</span>Xử lý dữ liệu nhiễu</a></span></li></ul></li><li><span><a href=\"#Phân-tích-dữ-liệu\" data-toc-modified-id=\"Phân-tích-dữ-liệu-4\"><span class=\"toc-item-num\">4&nbsp;&nbsp;</span>Phân tích dữ liệu</a></span><ul class=\"toc-item\"><li><span><a href=\"#Xu-hướng-nghe-nhạc-qua-từng-năm\" data-toc-modified-id=\"Xu-hướng-nghe-nhạc-qua-từng-năm-4.1\"><span class=\"toc-item-num\">4.1&nbsp;&nbsp;</span>Xu hướng nghe nhạc qua từng năm</a></span></li><li><span><a href=\"#Đất-nước-có-nhiều-nghệ-sĩ-được-xác-minh-(verified)\" data-toc-modified-id=\"Đất-nước-có-nhiều-nghệ-sĩ-được-xác-minh-(verified)-4.2\"><span class=\"toc-item-num\">4.2&nbsp;&nbsp;</span>Đất nước có nhiều nghệ sĩ được xác minh (verified)</a></span></li><li><span><a href=\"#Sự-tương-quan-giữa-nghệ-sĩ-được-xác-minh-(verified)-và-lượt-nghe-các-track-của-họ\" data-toc-modified-id=\"Sự-tương-quan-giữa-nghệ-sĩ-được-xác-minh-(verified)-và-lượt-nghe-các-track-của-họ-4.3\"><span class=\"toc-item-num\">4.3&nbsp;&nbsp;</span>Sự tương quan giữa nghệ sĩ được xác minh (verified) và lượt nghe các track của họ</a></span></li></ul></li></ul></div>"
   ]
  },
  {
   "cell_type": "markdown",
   "id": "3f266f8c",
   "metadata": {},
   "source": [
    "## Các thư viện sử dụng"
   ]
  },
  {
   "cell_type": "code",
   "execution_count": 1,
   "id": "cd651060",
   "metadata": {},
   "outputs": [],
   "source": [
    "from datetime import datetime\n",
    "import re\n",
    "import numpy as np\n",
    "import pandas as pd \n",
    "import matplotlib.pyplot as plt\n",
    "import seaborn as sns"
   ]
  },
  {
   "cell_type": "markdown",
   "id": "ed937ff7",
   "metadata": {},
   "source": [
    "## Danh sách kiểm tra phân tích dữ liệu\n",
    "Dưới đây là các câu hỏi được quan tâm:\n",
    "- **Xu hướng nghe nhạc qua từng năm?**\n",
    "  - Bảng dữ liệu cần sử dụng: `track`\n",
    "  - Các trường cần sử dụng: `genre`, `created_at`\n",
    "  - Kiểu dữ liệu mong đợi của các trường được sử dụng:\n",
    "    - `genre`: *string*\n",
    "    - `created_at`: *datetime*\n",
    "  - Các vấn đề có thể xảy ra: `genre` chứa missing values do có thể người dùng không nhập và một số người dùng tự định nghĩa `genre` của bản thân.\n",
    "  - Hướng giải quyết: sử dụng **Line chart** để trực quan hóa sự thay đổi của dòng nhạc và số lượng track tương ứng qua từng năm.\n",
    "  - Dự đoán kết quả: EDM chắc sẽ là cái tên phổ biến ở các năm gần đây, xa hơn nữa có thể là R&B hay Rock.\n",
    "- **Đất nước nào có nhiều nghệ sĩ đã được xác minh (verified)?**\n",
    "  - Bảng dữ liệu cần sử dụng: `user`\n",
    "  - Các trường cần sử dụng: `verified`, `country_code`\n",
    "  - Kiểu dữ liệu mong đợi của các trường được sử dụng:\n",
    "    - `verified`: *boolean*\n",
    "    - `country_code`: *string*\n",
    "  - Các vấn đề có thể xảy ra: `country_code` có thể chứa missing values do người dùng không nhập.\n",
    "  - Hướng giải quyết: sử dụng **Box plot** để trực quan hóa **10** nước có số lượng nghệ sĩ đã được xác minh nhiều nhất.\n",
    "  - Dự đoán kết quả: Mỹ và Đức sẽ là các quốc gia có lượt verified cao nhất. \n",
    "- **Sự tương quan giữa `verified` và `playback_count`**\n",
    "  - Bảng dữ liệu cần sử dụng: `user` và `track`\n",
    "  - Các trường cần sử dụng: `id`, `verified` (trong `user`) và `user_id`, `playback_count` (trong `track`)\n",
    "  - Kiểu dữ liệu mong đợi của các trường được sử dụng:\n",
    "    - `id`: *int64 / float64*\n",
    "    - `verified`: *boolean*\n",
    "    - `user_id`: *int64 / float64* (phải có cùng kiểu với kiểu của trường `id`)\n",
    "    - `playback_count`: *int64 / float64*\n",
    "  - Các vấn đề có thể xảy ra: `playback_count` có thể chứa missing values do một số bài bị hạn chế người xem, chế độ *private*.\n",
    "  - Hướng giải quyết: sử dụng **Thống kê** và **Box plot** để so sánh số lượt nghe của mỗi nhóm.\n",
    "  - Dự đoán kết quả: Số lượng lượt nghe sẽ cao hơn ở nhóm nghệ sĩ đã được xác minh."
   ]
  },
  {
   "cell_type": "markdown",
   "id": "e86b82ca",
   "metadata": {},
   "source": [
    "## Tiền xử lý dữ liệu\n",
    "Với câu hỏi đã đặt ra, chúng ta sẽ chỉ tập trung xử lý:\n",
    "- Dữ liệu `track`: gồm các trường `genre`, `created_at`, `playback_count` và `user_id`\n",
    "- Dữ liệu `user`: gồm các trường `id`, `verified` và `country_code`\n",
    "\n",
    "Đầu tiên, ta tiến hành load dữ liệu từ file `csv` đã chuẩn bị sẵn và lọc ra các trường cần thiết."
   ]
  },
  {
   "cell_type": "code",
   "execution_count": 23,
   "id": "01752b3b",
   "metadata": {},
   "outputs": [],
   "source": [
    "# Users\n",
    "user_df = pd.read_csv('./user.csv')\n",
    "user_df = user_df[['id', 'verified', 'country_code']].reset_index(drop=True)\n",
    "\n",
    "# Tracks\n",
    "track_df = pd.read_csv('./track.csv')\n",
    "track_df = track_df[['genre', 'created_at', 'playback_count', 'user_id']].reset_index(drop=True)"
   ]
  },
  {
   "cell_type": "markdown",
   "id": "f86e1e29",
   "metadata": {},
   "source": [
    "### Sai kiểu dữ liệu\n",
    "Để xem xét các trường có sai dữ liệu hay không, chúng ta cần phải coi kiểu dữ liệu hiện tại của các trường đã."
   ]
  },
  {
   "cell_type": "code",
   "execution_count": 24,
   "id": "9e038546",
   "metadata": {},
   "outputs": [
    {
     "name": "stdout",
     "output_type": "stream",
     "text": [
      "<class 'pandas.core.frame.DataFrame'>\n",
      "RangeIndex: 12029 entries, 0 to 12028\n",
      "Data columns (total 3 columns):\n",
      " #   Column        Non-Null Count  Dtype \n",
      "---  ------        --------------  ----- \n",
      " 0   id            12029 non-null  int64 \n",
      " 1   verified      12029 non-null  bool  \n",
      " 2   country_code  6554 non-null   object\n",
      "dtypes: bool(1), int64(1), object(1)\n",
      "memory usage: 199.8+ KB\n"
     ]
    }
   ],
   "source": [
    "# Users\n",
    "user_df.info()"
   ]
  },
  {
   "cell_type": "code",
   "execution_count": 25,
   "id": "aaae2682",
   "metadata": {},
   "outputs": [
    {
     "name": "stdout",
     "output_type": "stream",
     "text": [
      "<class 'pandas.core.frame.DataFrame'>\n",
      "RangeIndex: 633016 entries, 0 to 633015\n",
      "Data columns (total 4 columns):\n",
      " #   Column          Non-Null Count   Dtype  \n",
      "---  ------          --------------   -----  \n",
      " 0   genre           523931 non-null  object \n",
      " 1   created_at      633016 non-null  object \n",
      " 2   playback_count  599027 non-null  float64\n",
      " 3   user_id         633016 non-null  int64  \n",
      "dtypes: float64(1), int64(1), object(2)\n",
      "memory usage: 19.3+ MB\n"
     ]
    }
   ],
   "source": [
    "# Tracks\n",
    "track_df.info()"
   ]
  },
  {
   "cell_type": "markdown",
   "id": "99a6cf29",
   "metadata": {},
   "source": [
    "Với kết quả ở trên, ta có nhận xét sau:\n",
    "- Bảng `user_df`: các trường đều có kiểu dữ liệu như mong đợi.\n",
    "- Bảng `track_df`: chỉ có trường `created_at` có kiểu dữ liệu `object` khác với mong đợi là `datetime`.\n",
    "\n",
    "Chúng ta sẽ tiến hành convert kiểu dữ liệu của trường `created_at` sang `datetime`. Trước khi chuyển, chúng ta cần xem xét format của dữ liệu."
   ]
  },
  {
   "cell_type": "code",
   "execution_count": 26,
   "id": "e4be4e28",
   "metadata": {},
   "outputs": [
    {
     "data": {
      "text/plain": [
       "0    2021-10-29T08:43:42Z\n",
       "1    2021-10-15T09:37:00Z\n",
       "2    2021-09-24T08:55:16Z\n",
       "3    2021-09-17T07:35:14Z\n",
       "4    2021-09-03T09:40:32Z\n",
       "Name: created_at, dtype: object"
      ]
     },
     "execution_count": 26,
     "metadata": {},
     "output_type": "execute_result"
    }
   ],
   "source": [
    "track_df['created_at'].head(5)"
   ]
  },
  {
   "cell_type": "markdown",
   "id": "d160c868",
   "metadata": {},
   "source": [
    "Đây là kiểu dữ liệu ngày giờ theo chuẩn thời gian **ISO 8601**, nên để dễ dàng chuyển đổi, ta sẽ sử dụng thư viện `datetime`."
   ]
  },
  {
   "cell_type": "code",
   "execution_count": 27,
   "id": "de023b75",
   "metadata": {},
   "outputs": [],
   "source": [
    "# Convert từ string sang datetime bằng dateutil.parser\n",
    "track_df['created_at'] = track_df['created_at'].apply(lambda date: datetime.strptime(date, \"%Y-%m-%dT%H:%M:%S%z\"))"
   ]
  },
  {
   "cell_type": "code",
   "execution_count": 28,
   "id": "a603b7e1",
   "metadata": {},
   "outputs": [
    {
     "name": "stdout",
     "output_type": "stream",
     "text": [
      "<class 'pandas.core.frame.DataFrame'>\n",
      "RangeIndex: 633016 entries, 0 to 633015\n",
      "Data columns (total 4 columns):\n",
      " #   Column          Non-Null Count   Dtype              \n",
      "---  ------          --------------   -----              \n",
      " 0   genre           523931 non-null  object             \n",
      " 1   created_at      633016 non-null  datetime64[ns, UTC]\n",
      " 2   playback_count  599027 non-null  float64            \n",
      " 3   user_id         633016 non-null  int64              \n",
      "dtypes: datetime64[ns, UTC](1), float64(1), int64(1), object(1)\n",
      "memory usage: 19.3+ MB\n"
     ]
    }
   ],
   "source": [
    "# Kiểm tra lại\n",
    "track_df.info()"
   ]
  },
  {
   "cell_type": "markdown",
   "id": "ee2bfa47",
   "metadata": {},
   "source": [
    "### Giá trị thiếu (missing values)\n",
    "Tiếp theo, chúng ta sẽ tiến hành xử lý dữ liệu thiếu. Đầu tiên, chúng ta sẽ xem xét xem trường nào bị thiếu, thiếu bao nhiêu và chiếm bao nhiêu phần trăm dữ liệu."
   ]
  },
  {
   "cell_type": "code",
   "execution_count": 29,
   "id": "86b61f3c",
   "metadata": {},
   "outputs": [
    {
     "data": {
      "text/html": [
       "<div>\n",
       "<style scoped>\n",
       "    .dataframe tbody tr th:only-of-type {\n",
       "        vertical-align: middle;\n",
       "    }\n",
       "\n",
       "    .dataframe tbody tr th {\n",
       "        vertical-align: top;\n",
       "    }\n",
       "\n",
       "    .dataframe thead th {\n",
       "        text-align: right;\n",
       "    }\n",
       "</style>\n",
       "<table border=\"1\" class=\"dataframe\">\n",
       "  <thead>\n",
       "    <tr style=\"text-align: right;\">\n",
       "      <th></th>\n",
       "      <th>Số lượng</th>\n",
       "      <th>Phần trăm</th>\n",
       "    </tr>\n",
       "  </thead>\n",
       "  <tbody>\n",
       "    <tr>\n",
       "      <th>id</th>\n",
       "      <td>0</td>\n",
       "      <td>0.000000</td>\n",
       "    </tr>\n",
       "    <tr>\n",
       "      <th>verified</th>\n",
       "      <td>0</td>\n",
       "      <td>0.000000</td>\n",
       "    </tr>\n",
       "    <tr>\n",
       "      <th>country_code</th>\n",
       "      <td>5475</td>\n",
       "      <td>45.515005</td>\n",
       "    </tr>\n",
       "  </tbody>\n",
       "</table>\n",
       "</div>"
      ],
      "text/plain": [
       "              Số lượng  Phần trăm\n",
       "id                   0   0.000000\n",
       "verified             0   0.000000\n",
       "country_code      5475  45.515005"
      ]
     },
     "execution_count": 29,
     "metadata": {},
     "output_type": "execute_result"
    }
   ],
   "source": [
    "# Users\n",
    "user_mv = pd.DataFrame()\n",
    "user_mv['Số lượng'] = user_df.isna().sum().values\n",
    "user_mv['Phần trăm'] = user_mv['Số lượng'].apply(lambda val: val/user_df.shape[0] * 100)\n",
    "user_mv.index = user_df.columns\n",
    "\n",
    "user_mv"
   ]
  },
  {
   "cell_type": "code",
   "execution_count": 30,
   "id": "007e5110",
   "metadata": {},
   "outputs": [
    {
     "data": {
      "text/html": [
       "<div>\n",
       "<style scoped>\n",
       "    .dataframe tbody tr th:only-of-type {\n",
       "        vertical-align: middle;\n",
       "    }\n",
       "\n",
       "    .dataframe tbody tr th {\n",
       "        vertical-align: top;\n",
       "    }\n",
       "\n",
       "    .dataframe thead th {\n",
       "        text-align: right;\n",
       "    }\n",
       "</style>\n",
       "<table border=\"1\" class=\"dataframe\">\n",
       "  <thead>\n",
       "    <tr style=\"text-align: right;\">\n",
       "      <th></th>\n",
       "      <th>Số lượng</th>\n",
       "      <th>Phần trăm</th>\n",
       "    </tr>\n",
       "  </thead>\n",
       "  <tbody>\n",
       "    <tr>\n",
       "      <th>genre</th>\n",
       "      <td>109085</td>\n",
       "      <td>17.232582</td>\n",
       "    </tr>\n",
       "    <tr>\n",
       "      <th>created_at</th>\n",
       "      <td>0</td>\n",
       "      <td>0.000000</td>\n",
       "    </tr>\n",
       "    <tr>\n",
       "      <th>playback_count</th>\n",
       "      <td>33989</td>\n",
       "      <td>5.369375</td>\n",
       "    </tr>\n",
       "    <tr>\n",
       "      <th>user_id</th>\n",
       "      <td>0</td>\n",
       "      <td>0.000000</td>\n",
       "    </tr>\n",
       "  </tbody>\n",
       "</table>\n",
       "</div>"
      ],
      "text/plain": [
       "                Số lượng  Phần trăm\n",
       "genre             109085  17.232582\n",
       "created_at             0   0.000000\n",
       "playback_count     33989   5.369375\n",
       "user_id                0   0.000000"
      ]
     },
     "execution_count": 30,
     "metadata": {},
     "output_type": "execute_result"
    }
   ],
   "source": [
    "# Track\n",
    "track_mv = pd.DataFrame()\n",
    "track_mv['Số lượng'] = track_df.isna().sum().values\n",
    "track_mv['Phần trăm'] = track_mv['Số lượng'].apply(lambda val: val/track_df.shape[0] * 100)\n",
    "track_mv.index = track_df.columns\n",
    "\n",
    "track_mv"
   ]
  },
  {
   "cell_type": "markdown",
   "id": "0c5292c2",
   "metadata": {},
   "source": [
    "Tiếp theo, chúng ta sẽ tiến hành phân tích các trường và đưa ra cách giải quyết phù hợp:\n",
    "- `country_code`: thuộc kiểu categorical $\\rightarrow$ ta coi các missing values là *Quốc gia không xác định* và fill in bằng giá trị `unknown`.\n",
    "- `genre`: thuộc kiểu categorical $\\rightarrow$ chỉ chiếm khoảng 17% và chúng ta không thể phân tích gì được với thể loại nhạc không xác định, cho nên với trường này chúng ta sẽ tiên hành drop các missing values.\n",
    "- `playback_count`: thuộc kiểu numerical $\\rightarrow$ tương tự như trường `genre`, chúng ta sẽ drop các missing values.\n",
    "\n"
   ]
  },
  {
   "cell_type": "code",
   "execution_count": 31,
   "id": "5652c49a",
   "metadata": {},
   "outputs": [],
   "source": [
    "# Fill giá trị trường country_code\n",
    "user_df.fillna(value='unknown', inplace=True)\n",
    "\n",
    "# Drop mv ở trường genre và playback_count\n",
    "track_df.dropna(inplace=True)"
   ]
  },
  {
   "cell_type": "code",
   "execution_count": 32,
   "id": "9fc0f518",
   "metadata": {},
   "outputs": [
    {
     "data": {
      "text/html": [
       "<div>\n",
       "<style scoped>\n",
       "    .dataframe tbody tr th:only-of-type {\n",
       "        vertical-align: middle;\n",
       "    }\n",
       "\n",
       "    .dataframe tbody tr th {\n",
       "        vertical-align: top;\n",
       "    }\n",
       "\n",
       "    .dataframe thead th {\n",
       "        text-align: right;\n",
       "    }\n",
       "</style>\n",
       "<table border=\"1\" class=\"dataframe\">\n",
       "  <thead>\n",
       "    <tr style=\"text-align: right;\">\n",
       "      <th></th>\n",
       "      <th>Số lượng</th>\n",
       "      <th>Phần trăm</th>\n",
       "    </tr>\n",
       "  </thead>\n",
       "  <tbody>\n",
       "    <tr>\n",
       "      <th>id</th>\n",
       "      <td>0</td>\n",
       "      <td>0.0</td>\n",
       "    </tr>\n",
       "    <tr>\n",
       "      <th>verified</th>\n",
       "      <td>0</td>\n",
       "      <td>0.0</td>\n",
       "    </tr>\n",
       "    <tr>\n",
       "      <th>country_code</th>\n",
       "      <td>0</td>\n",
       "      <td>0.0</td>\n",
       "    </tr>\n",
       "  </tbody>\n",
       "</table>\n",
       "</div>"
      ],
      "text/plain": [
       "              Số lượng  Phần trăm\n",
       "id                   0        0.0\n",
       "verified             0        0.0\n",
       "country_code         0        0.0"
      ]
     },
     "execution_count": 32,
     "metadata": {},
     "output_type": "execute_result"
    }
   ],
   "source": [
    "# Kiểm tra lại\n",
    "# Users\n",
    "user_mv = pd.DataFrame()\n",
    "user_mv['Số lượng'] = user_df.isna().sum().values\n",
    "user_mv['Phần trăm'] = user_mv['Số lượng'].apply(lambda val: val/user_df.shape[0] * 100)\n",
    "user_mv.index = user_df.columns\n",
    "\n",
    "user_mv"
   ]
  },
  {
   "cell_type": "code",
   "execution_count": 33,
   "id": "ac649d97",
   "metadata": {},
   "outputs": [
    {
     "data": {
      "text/html": [
       "<div>\n",
       "<style scoped>\n",
       "    .dataframe tbody tr th:only-of-type {\n",
       "        vertical-align: middle;\n",
       "    }\n",
       "\n",
       "    .dataframe tbody tr th {\n",
       "        vertical-align: top;\n",
       "    }\n",
       "\n",
       "    .dataframe thead th {\n",
       "        text-align: right;\n",
       "    }\n",
       "</style>\n",
       "<table border=\"1\" class=\"dataframe\">\n",
       "  <thead>\n",
       "    <tr style=\"text-align: right;\">\n",
       "      <th></th>\n",
       "      <th>Số lượng</th>\n",
       "      <th>Phần trăm</th>\n",
       "    </tr>\n",
       "  </thead>\n",
       "  <tbody>\n",
       "    <tr>\n",
       "      <th>genre</th>\n",
       "      <td>0</td>\n",
       "      <td>0.0</td>\n",
       "    </tr>\n",
       "    <tr>\n",
       "      <th>created_at</th>\n",
       "      <td>0</td>\n",
       "      <td>0.0</td>\n",
       "    </tr>\n",
       "    <tr>\n",
       "      <th>playback_count</th>\n",
       "      <td>0</td>\n",
       "      <td>0.0</td>\n",
       "    </tr>\n",
       "    <tr>\n",
       "      <th>user_id</th>\n",
       "      <td>0</td>\n",
       "      <td>0.0</td>\n",
       "    </tr>\n",
       "  </tbody>\n",
       "</table>\n",
       "</div>"
      ],
      "text/plain": [
       "                Số lượng  Phần trăm\n",
       "genre                  0        0.0\n",
       "created_at             0        0.0\n",
       "playback_count         0        0.0\n",
       "user_id                0        0.0"
      ]
     },
     "execution_count": 33,
     "metadata": {},
     "output_type": "execute_result"
    }
   ],
   "source": [
    "# Track\n",
    "track_mv = pd.DataFrame()\n",
    "track_mv['Số lượng'] = track_df.isna().sum().values\n",
    "track_mv['Phần trăm'] = track_mv['Số lượng'].apply(lambda val: val/track_df.shape[0] * 100)\n",
    "track_mv.index = track_df.columns\n",
    "\n",
    "track_mv"
   ]
  },
  {
   "cell_type": "markdown",
   "id": "c4c0043e",
   "metadata": {},
   "source": [
    "### Xử lý dữ liệu nhiễu\n",
    "Đầu tiên chúng ta sẽ kiểm tra miền giá trị của các trường:\n",
    "- `verified`: chỉ gồm 2 giá trị True và False\n",
    "- `created_at`: Soundcloud ra đời vào *tháng 8 năm 2018* cho nên miền giá trị của trường này phải bắt đầu từ đây.\n",
    "- `playback_count` và `user_id`: không được là giá trị âm"
   ]
  },
  {
   "cell_type": "code",
   "execution_count": 34,
   "id": "8f97a7e3",
   "metadata": {},
   "outputs": [
    {
     "data": {
      "text/plain": [
       "False    8597\n",
       "True     3432\n",
       "Name: verified, dtype: int64"
      ]
     },
     "execution_count": 34,
     "metadata": {},
     "output_type": "execute_result"
    }
   ],
   "source": [
    "# Kiểm tra trường verified\n",
    "user_df.verified.value_counts()"
   ]
  },
  {
   "cell_type": "code",
   "execution_count": 35,
   "id": "e20895ed",
   "metadata": {},
   "outputs": [
    {
     "data": {
      "text/html": [
       "<div>\n",
       "<style scoped>\n",
       "    .dataframe tbody tr th:only-of-type {\n",
       "        vertical-align: middle;\n",
       "    }\n",
       "\n",
       "    .dataframe tbody tr th {\n",
       "        vertical-align: top;\n",
       "    }\n",
       "\n",
       "    .dataframe thead th {\n",
       "        text-align: right;\n",
       "    }\n",
       "</style>\n",
       "<table border=\"1\" class=\"dataframe\">\n",
       "  <thead>\n",
       "    <tr style=\"text-align: right;\">\n",
       "      <th></th>\n",
       "      <th>genre</th>\n",
       "      <th>created_at</th>\n",
       "      <th>playback_count</th>\n",
       "      <th>user_id</th>\n",
       "    </tr>\n",
       "  </thead>\n",
       "  <tbody>\n",
       "    <tr>\n",
       "      <th>count</th>\n",
       "      <td>507762</td>\n",
       "      <td>507762</td>\n",
       "      <td>5.077620e+05</td>\n",
       "      <td>5.077620e+05</td>\n",
       "    </tr>\n",
       "    <tr>\n",
       "      <th>unique</th>\n",
       "      <td>41729</td>\n",
       "      <td>NaN</td>\n",
       "      <td>NaN</td>\n",
       "      <td>NaN</td>\n",
       "    </tr>\n",
       "    <tr>\n",
       "      <th>top</th>\n",
       "      <td>Electronic</td>\n",
       "      <td>NaN</td>\n",
       "      <td>NaN</td>\n",
       "      <td>NaN</td>\n",
       "    </tr>\n",
       "    <tr>\n",
       "      <th>freq</th>\n",
       "      <td>42472</td>\n",
       "      <td>NaN</td>\n",
       "      <td>NaN</td>\n",
       "      <td>NaN</td>\n",
       "    </tr>\n",
       "    <tr>\n",
       "      <th>mean</th>\n",
       "      <td>NaN</td>\n",
       "      <td>2018-03-16 02:43:55.400540160+00:00</td>\n",
       "      <td>1.381771e+05</td>\n",
       "      <td>1.163146e+08</td>\n",
       "    </tr>\n",
       "    <tr>\n",
       "      <th>min</th>\n",
       "      <td>NaN</td>\n",
       "      <td>2008-09-03 20:49:56+00:00</td>\n",
       "      <td>0.000000e+00</td>\n",
       "      <td>1.870000e+02</td>\n",
       "    </tr>\n",
       "    <tr>\n",
       "      <th>25%</th>\n",
       "      <td>NaN</td>\n",
       "      <td>2016-03-31 11:03:01+00:00</td>\n",
       "      <td>9.700000e+02</td>\n",
       "      <td>1.819173e+06</td>\n",
       "    </tr>\n",
       "    <tr>\n",
       "      <th>50%</th>\n",
       "      <td>NaN</td>\n",
       "      <td>2018-10-04 14:40:15+00:00</td>\n",
       "      <td>5.079000e+03</td>\n",
       "      <td>2.380901e+07</td>\n",
       "    </tr>\n",
       "    <tr>\n",
       "      <th>75%</th>\n",
       "      <td>NaN</td>\n",
       "      <td>2020-06-28 22:47:18.750000128+00:00</td>\n",
       "      <td>2.330600e+04</td>\n",
       "      <td>1.573754e+08</td>\n",
       "    </tr>\n",
       "    <tr>\n",
       "      <th>max</th>\n",
       "      <td>NaN</td>\n",
       "      <td>2021-11-08 09:01:38+00:00</td>\n",
       "      <td>2.825388e+08</td>\n",
       "      <td>1.043528e+09</td>\n",
       "    </tr>\n",
       "    <tr>\n",
       "      <th>std</th>\n",
       "      <td>NaN</td>\n",
       "      <td>NaN</td>\n",
       "      <td>1.899341e+06</td>\n",
       "      <td>1.925785e+08</td>\n",
       "    </tr>\n",
       "  </tbody>\n",
       "</table>\n",
       "</div>"
      ],
      "text/plain": [
       "             genre                           created_at  playback_count  \\\n",
       "count       507762                               507762    5.077620e+05   \n",
       "unique       41729                                  NaN             NaN   \n",
       "top     Electronic                                  NaN             NaN   \n",
       "freq         42472                                  NaN             NaN   \n",
       "mean           NaN  2018-03-16 02:43:55.400540160+00:00    1.381771e+05   \n",
       "min            NaN            2008-09-03 20:49:56+00:00    0.000000e+00   \n",
       "25%            NaN            2016-03-31 11:03:01+00:00    9.700000e+02   \n",
       "50%            NaN            2018-10-04 14:40:15+00:00    5.079000e+03   \n",
       "75%            NaN  2020-06-28 22:47:18.750000128+00:00    2.330600e+04   \n",
       "max            NaN            2021-11-08 09:01:38+00:00    2.825388e+08   \n",
       "std            NaN                                  NaN    1.899341e+06   \n",
       "\n",
       "             user_id  \n",
       "count   5.077620e+05  \n",
       "unique           NaN  \n",
       "top              NaN  \n",
       "freq             NaN  \n",
       "mean    1.163146e+08  \n",
       "min     1.870000e+02  \n",
       "25%     1.819173e+06  \n",
       "50%     2.380901e+07  \n",
       "75%     1.573754e+08  \n",
       "max     1.043528e+09  \n",
       "std     1.925785e+08  "
      ]
     },
     "execution_count": 35,
     "metadata": {},
     "output_type": "execute_result"
    }
   ],
   "source": [
    "# Tracks\n",
    "track_df.describe(include='all', datetime_is_numeric=True)"
   ]
  },
  {
   "cell_type": "markdown",
   "id": "47451fcd",
   "metadata": {},
   "source": [
    "Có vẻ như các trường này đều ổn. Tiếp theo là đến hai trường còn lại, đầu tiên ta xem sơ qua các giá trị của 2 trường này."
   ]
  },
  {
   "cell_type": "code",
   "execution_count": 36,
   "id": "05d2f56f",
   "metadata": {},
   "outputs": [
    {
     "data": {
      "text/plain": [
       "Electronic        42472\n",
       "Dance & EDM       37444\n",
       "House             31727\n",
       "Techno            20481\n",
       "Hip-hop & Rap     18706\n",
       "                  ...  \n",
       "tune                  1\n",
       "Larry Heard           1\n",
       "back to roots         1\n",
       "Post Balearic         1\n",
       "Pastel Core           1\n",
       "Name: genre, Length: 41729, dtype: int64"
      ]
     },
     "execution_count": 36,
     "metadata": {},
     "output_type": "execute_result"
    }
   ],
   "source": [
    "# Trường genre\n",
    "track_df.genre.value_counts()"
   ]
  },
  {
   "cell_type": "code",
   "execution_count": 37,
   "id": "27467b02",
   "metadata": {},
   "outputs": [
    {
     "data": {
      "text/plain": [
       "US    1742\n",
       "GB     510\n",
       "DE     387\n",
       "JP     366\n",
       "FR     336\n",
       "      ... \n",
       "GS       1\n",
       "UM       1\n",
       "CY       1\n",
       "AW       1\n",
       "MZ       1\n",
       "Name: country_code, Length: 139, dtype: int64"
      ]
     },
     "execution_count": 37,
     "metadata": {},
     "output_type": "execute_result"
    }
   ],
   "source": [
    "# Trường country_code\n",
    "user_df[user_df.country_code != 'unknown'].country_code.value_counts()"
   ]
  },
  {
   "cell_type": "markdown",
   "id": "685a68f2",
   "metadata": {},
   "source": [
    "Với kết quả ở trên, ta có một số nhận xét:\n",
    "- `genre`: một số người dùng tự định nghĩa dòng nhạc của bản thân. Do đó, chỉ lấy những dòng nhạc có từ **500** records trở lên.\n",
    "- `country_code`: code theo chuẩn [ISO 3166-1 Alpha-2](https://en.wikipedia.org/wiki/ISO_3166-1_alpha-2), gồm 2 ký tự viết hoa. Do đó, chúng ta sẽ loại những giá trị mà độ dài khác 2 và viết thường."
   ]
  },
  {
   "cell_type": "code",
   "execution_count": 38,
   "id": "2d2fe380",
   "metadata": {},
   "outputs": [],
   "source": [
    "# Trường genre\n",
    "## Chọn ra những dòng nhạc chỉ có từ 2 người sử dụng trở lên\n",
    "genres = track_df.genre.value_counts() >= 500\n",
    "genres = track_df.genre.value_counts()[genres]\n",
    "genres = set(genres.index)\n",
    "\n",
    "## Lọc lại dữ liệu\n",
    "track_df = track_df[track_df.genre.isin(genres)].reset_index(drop=True)"
   ]
  },
  {
   "cell_type": "code",
   "execution_count": 39,
   "id": "30ce8916",
   "metadata": {
    "scrolled": true
   },
   "outputs": [
    {
     "data": {
      "text/plain": [
       "139"
      ]
     },
     "execution_count": 39,
     "metadata": {},
     "output_type": "execute_result"
    }
   ],
   "source": [
    "# Trường country_code\n",
    "## Chọn ra các code theo chuẩn ISO 3166-1 Alpha-2\n",
    "country_codes = set(user_df.country_code.value_counts().index)\n",
    "final_codes = set()\n",
    "for code in country_codes:\n",
    "    if re.match('^[A-Z]{2}$', code):\n",
    "        final_codes.add(code)\n",
    "\n",
    "len(final_codes)"
   ]
  },
  {
   "cell_type": "markdown",
   "id": "df9b5f8b",
   "metadata": {},
   "source": [
    "Sau khi lọc lại thì số lượng *unique value* trong `country_code` không thay đổi (bằng **139**)! Do đó, ta sẽ không cần thay đổi bất cứ thứ gì.\n",
    "\n",
    "Đến đây, dữ liệu của chúng ta đã tương đối *sạch sẽ*. Chúng ta sẽ qua bước kế tiếp: **phân tích dữ liệu**!"
   ]
  },
  {
   "cell_type": "markdown",
   "id": "215190bd",
   "metadata": {},
   "source": [
    "## Phân tích dữ liệu\n",
    "Nhắc lại 2 câu hỏi đã đưa ra:\n",
    "- Xu hướng nghe nhạc qua từng năm.\n",
    "- Đất nước nào có nhiều nghệ sĩ được verified? Có liên quan gì đến lượt nghe hay không?\n",
    "\n",
    "Chúng ta sẽ lần lượt tiến hành phân tích dữ liệu để giải quyết từng câu hỏi\n",
    "### Xu hướng nghe nhạc qua từng năm\n",
    "Để giải quyết câu hỏi này, ta sẽ sử dụng dữ liệu `track` với 2 trường: `genre` và `created_at`. Cụ thể, ta sẽ xem xét dòng nhạc nào thịnh hành nhất trong mỗi năm. Các bước thực hiện:\n",
    "1. Tạo trường mới: `year` chứa năm được trích từ trường `created_at`.\n",
    "2. Nhóm dữ liệu bởi các giá trị của trường `year`.\n",
    "3. Với mỗi năm, đếm và lựa ra `genre` xuất hiện nhiều nhất.\n",
    "4. Sử dụng **Line chart** để trực quan hóa sự thay đổi này."
   ]
  },
  {
   "cell_type": "code",
   "execution_count": 40,
   "id": "d977f48a",
   "metadata": {},
   "outputs": [
    {
     "data": {
      "text/html": [
       "<div>\n",
       "<style scoped>\n",
       "    .dataframe tbody tr th:only-of-type {\n",
       "        vertical-align: middle;\n",
       "    }\n",
       "\n",
       "    .dataframe tbody tr th {\n",
       "        vertical-align: top;\n",
       "    }\n",
       "\n",
       "    .dataframe thead th {\n",
       "        text-align: right;\n",
       "    }\n",
       "</style>\n",
       "<table border=\"1\" class=\"dataframe\">\n",
       "  <thead>\n",
       "    <tr style=\"text-align: right;\">\n",
       "      <th></th>\n",
       "      <th>count</th>\n",
       "      <th>unique</th>\n",
       "      <th>top</th>\n",
       "      <th>freq</th>\n",
       "    </tr>\n",
       "    <tr>\n",
       "      <th>year</th>\n",
       "      <th></th>\n",
       "      <th></th>\n",
       "      <th></th>\n",
       "      <th></th>\n",
       "    </tr>\n",
       "  </thead>\n",
       "  <tbody>\n",
       "    <tr>\n",
       "      <th>2008</th>\n",
       "      <td>14</td>\n",
       "      <td>5</td>\n",
       "      <td>Trance</td>\n",
       "      <td>5</td>\n",
       "    </tr>\n",
       "    <tr>\n",
       "      <th>2009</th>\n",
       "      <td>143</td>\n",
       "      <td>14</td>\n",
       "      <td>House</td>\n",
       "      <td>37</td>\n",
       "    </tr>\n",
       "    <tr>\n",
       "      <th>2010</th>\n",
       "      <td>1120</td>\n",
       "      <td>47</td>\n",
       "      <td>House</td>\n",
       "      <td>129</td>\n",
       "    </tr>\n",
       "    <tr>\n",
       "      <th>2011</th>\n",
       "      <td>4700</td>\n",
       "      <td>55</td>\n",
       "      <td>House</td>\n",
       "      <td>568</td>\n",
       "    </tr>\n",
       "    <tr>\n",
       "      <th>2012</th>\n",
       "      <td>5515</td>\n",
       "      <td>58</td>\n",
       "      <td>House</td>\n",
       "      <td>523</td>\n",
       "    </tr>\n",
       "    <tr>\n",
       "      <th>2013</th>\n",
       "      <td>9015</td>\n",
       "      <td>62</td>\n",
       "      <td>House</td>\n",
       "      <td>816</td>\n",
       "    </tr>\n",
       "    <tr>\n",
       "      <th>2014</th>\n",
       "      <td>12779</td>\n",
       "      <td>66</td>\n",
       "      <td>rock</td>\n",
       "      <td>1531</td>\n",
       "    </tr>\n",
       "    <tr>\n",
       "      <th>2015</th>\n",
       "      <td>13473</td>\n",
       "      <td>66</td>\n",
       "      <td>House</td>\n",
       "      <td>1390</td>\n",
       "    </tr>\n",
       "    <tr>\n",
       "      <th>2016</th>\n",
       "      <td>31757</td>\n",
       "      <td>70</td>\n",
       "      <td>Electronic</td>\n",
       "      <td>4597</td>\n",
       "    </tr>\n",
       "    <tr>\n",
       "      <th>2017</th>\n",
       "      <td>36716</td>\n",
       "      <td>74</td>\n",
       "      <td>Electronic</td>\n",
       "      <td>4850</td>\n",
       "    </tr>\n",
       "    <tr>\n",
       "      <th>2018</th>\n",
       "      <td>41578</td>\n",
       "      <td>75</td>\n",
       "      <td>Electronic</td>\n",
       "      <td>5707</td>\n",
       "    </tr>\n",
       "    <tr>\n",
       "      <th>2019</th>\n",
       "      <td>49296</td>\n",
       "      <td>75</td>\n",
       "      <td>Dance &amp; EDM</td>\n",
       "      <td>6470</td>\n",
       "    </tr>\n",
       "    <tr>\n",
       "      <th>2020</th>\n",
       "      <td>69797</td>\n",
       "      <td>72</td>\n",
       "      <td>Dance &amp; EDM</td>\n",
       "      <td>9502</td>\n",
       "    </tr>\n",
       "    <tr>\n",
       "      <th>2021</th>\n",
       "      <td>63716</td>\n",
       "      <td>71</td>\n",
       "      <td>Electronic</td>\n",
       "      <td>9156</td>\n",
       "    </tr>\n",
       "  </tbody>\n",
       "</table>\n",
       "</div>"
      ],
      "text/plain": [
       "      count  unique          top  freq\n",
       "year                                  \n",
       "2008     14       5       Trance     5\n",
       "2009    143      14        House    37\n",
       "2010   1120      47        House   129\n",
       "2011   4700      55        House   568\n",
       "2012   5515      58        House   523\n",
       "2013   9015      62        House   816\n",
       "2014  12779      66         rock  1531\n",
       "2015  13473      66        House  1390\n",
       "2016  31757      70   Electronic  4597\n",
       "2017  36716      74   Electronic  4850\n",
       "2018  41578      75   Electronic  5707\n",
       "2019  49296      75  Dance & EDM  6470\n",
       "2020  69797      72  Dance & EDM  9502\n",
       "2021  63716      71   Electronic  9156"
      ]
     },
     "execution_count": 40,
     "metadata": {},
     "output_type": "execute_result"
    }
   ],
   "source": [
    "# Clone dữ liệu để tránh thay đổi tới dữ liệu gốc\n",
    "data_df = track_df[['genre', 'created_at']].copy()\n",
    "\n",
    "# Tạo trường mới: year\n",
    "data_df['year'] = data_df['created_at'].apply(lambda date: date.year)\n",
    "\n",
    "# Bỏ trường cũ: created_at\n",
    "data_df.drop(labels=['created_at'], axis=1, inplace=True)\n",
    "\n",
    "# Nhóm dữ liệu bởi trường year\n",
    "grouped_data = data_df.groupby(by='year')\n",
    "\n",
    "# Thống kê\n",
    "grouped_data = grouped_data.describe()\n",
    "grouped_data.columns = ['count', 'unique', 'top', 'freq']\n",
    "\n",
    "# Chuyển các trường count, unique, freq về dạng số\n",
    "grouped_data['count'] = pd.to_numeric(grouped_data['count'])\n",
    "grouped_data['unique'] = pd.to_numeric(grouped_data['unique'])\n",
    "grouped_data['freq'] = pd.to_numeric(grouped_data['freq'])\n",
    "\n",
    "grouped_data"
   ]
  },
  {
   "cell_type": "markdown",
   "id": "90b4d9a2",
   "metadata": {},
   "source": [
    "Tiếp theo ta sẽ tiến hành trực quan hóa dữ liệu."
   ]
  },
  {
   "cell_type": "code",
   "execution_count": 41,
   "id": "b27931e4",
   "metadata": {},
   "outputs": [
    {
     "data": {
      "text/plain": [
       "Text(0, 0.5, 'Số lượng track')"
      ]
     },
     "execution_count": 41,
     "metadata": {},
     "output_type": "execute_result"
    },
    {
     "data": {
      "image/png": "[encoded data removed]",
      "text/plain": [
       "<Figure size 1080x576 with 1 Axes>"
      ]
     },
     "metadata": {
      "needs_background": "light"
     },
     "output_type": "display_data"
    }
   ],
   "source": [
    "# Dòng nhạc thịnh hành qua từng năm\n",
    "fig, ax = plt.subplots()\n",
    "fig.set_size_inches(15, 8)\n",
    "\n",
    "# Số lượng track\n",
    "ax = sns.lineplot(data=grouped_data, x=grouped_data.index.to_list(), y='freq')\n",
    "\n",
    "# Thêm tên của dòng nhạc\n",
    "sns.scatterplot(data=grouped_data, x=grouped_data.index.to_list(), y='freq', markers=True, legend=False)\n",
    "for i in range(grouped_data.shape[0]):\n",
    "    ax.annotate(grouped_data.iloc[i, 2], (grouped_data.index[i] - 0.5, grouped_data.iloc[i, -1] + 200))\n",
    "\n",
    "# Tùy chỉnh biểu đồ\n",
    "ax.set_title('Dòng nhạc thịnh hành nhất và số lượng track của dòng nhạc đó qua từng năm', fontdict={'size':20})\n",
    "ax.spines['top'].set_visible(False)\n",
    "ax.spines['right'].set_visible(False)\n",
    "ax.set_xlabel('Năm', fontdict={'size':15})\n",
    "ax.set_ylabel('Số lượng track', fontdict={'size':15})"
   ]
  },
  {
   "cell_type": "markdown",
   "id": "a412a988",
   "metadata": {},
   "source": [
    "Với các kết quả thu được, chúng ta có các nhận xét sau:\n",
    "- Các dòng nhạc **Electronic** thống trị *Soundcloud*.\n",
    "- Có sự tăng mạnh số lượng track trong năm 2016 và năm 2020 bởi một số nguyên nhân sau:\n",
    "  - **Năm 2016**: sự nổi lên của phong cách **Mumble Rap** với giai điệu đơn giản và bắt tai đã lan truyền mạnh mẽ trên *Soundcloud*.\n",
    "  - **Năm 2020**: sự xuất hiện của **Covid-19** và phong tỏa ở nhiều nước phần nào đó ảnh hưởng đến số lượng track tăng cao.\n",
    "- Với sự tăng lên của số lượng track qua từng năm cho ta thấy rằng sự phổ biến của nền tảng chia sẻ nhạc miễn phí *Soundcloud* càng ngày càng rộng rãi với những nhà sản xuất nhạc thiếu điều kiện, đặc biệt là giới *Underground*.\n",
    "### Đất nước có nhiều nghệ sĩ được xác minh (verified)\n",
    "Với câu hỏi này, ta sẽ sử dụng dữ liệu `user` với các trường: `country_code` và `verified`. Cụ thể, ta sẽ đếm số lượng nghệ sĩ *được xác minh* trong từng quốc gia. Các bước thực hiện:\n",
    "1. Lựa ra các dòng có cột `verified` bằng `True`\n",
    "2. Nhóm dữ liệu bởi trường `country_code`.\n",
    "3. Đếm số lượng nghệ sĩ `verified`.\n",
    "4. Trực quan hóa **10** quốc gia có nhiều nghệ sĩ verified nhất bằng **Bar chart**."
   ]
  },
  {
   "cell_type": "code",
   "execution_count": 42,
   "id": "8fa9e39c",
   "metadata": {},
   "outputs": [
    {
     "data": {
      "text/html": [
       "<div>\n",
       "<style scoped>\n",
       "    .dataframe tbody tr th:only-of-type {\n",
       "        vertical-align: middle;\n",
       "    }\n",
       "\n",
       "    .dataframe tbody tr th {\n",
       "        vertical-align: top;\n",
       "    }\n",
       "\n",
       "    .dataframe thead th {\n",
       "        text-align: right;\n",
       "    }\n",
       "</style>\n",
       "<table border=\"1\" class=\"dataframe\">\n",
       "  <thead>\n",
       "    <tr style=\"text-align: right;\">\n",
       "      <th></th>\n",
       "      <th>verified</th>\n",
       "    </tr>\n",
       "    <tr>\n",
       "      <th>country_code</th>\n",
       "      <th></th>\n",
       "    </tr>\n",
       "  </thead>\n",
       "  <tbody>\n",
       "    <tr>\n",
       "      <th>unknown</th>\n",
       "      <td>1642</td>\n",
       "    </tr>\n",
       "    <tr>\n",
       "      <th>US</th>\n",
       "      <td>512</td>\n",
       "    </tr>\n",
       "    <tr>\n",
       "      <th>GB</th>\n",
       "      <td>157</td>\n",
       "    </tr>\n",
       "    <tr>\n",
       "      <th>NL</th>\n",
       "      <td>147</td>\n",
       "    </tr>\n",
       "    <tr>\n",
       "      <th>DE</th>\n",
       "      <td>135</td>\n",
       "    </tr>\n",
       "    <tr>\n",
       "      <th>FR</th>\n",
       "      <td>111</td>\n",
       "    </tr>\n",
       "    <tr>\n",
       "      <th>CA</th>\n",
       "      <td>101</td>\n",
       "    </tr>\n",
       "    <tr>\n",
       "      <th>AU</th>\n",
       "      <td>79</td>\n",
       "    </tr>\n",
       "    <tr>\n",
       "      <th>BR</th>\n",
       "      <td>64</td>\n",
       "    </tr>\n",
       "    <tr>\n",
       "      <th>SE</th>\n",
       "      <td>36</td>\n",
       "    </tr>\n",
       "  </tbody>\n",
       "</table>\n",
       "</div>"
      ],
      "text/plain": [
       "              verified\n",
       "country_code          \n",
       "unknown           1642\n",
       "US                 512\n",
       "GB                 157\n",
       "NL                 147\n",
       "DE                 135\n",
       "FR                 111\n",
       "CA                 101\n",
       "AU                  79\n",
       "BR                  64\n",
       "SE                  36"
      ]
     },
     "execution_count": 42,
     "metadata": {},
     "output_type": "execute_result"
    }
   ],
   "source": [
    "# Clone dữ liệu để tránh chỉnh sửa dữ liệu gốc\n",
    "data_df = user_df[['country_code', 'verified']].copy()\n",
    "\n",
    "# Lựa ra nghệ sĩ verified\n",
    "data_df = data_df.loc[data_df['verified'] == True]\n",
    "\n",
    "# Nhóm dữ liệu bởi trường country_code\n",
    "grouped_data = data_df.groupby(by=['country_code'])\n",
    "\n",
    "# Đếm số lượng nghệ sĩ verified và sort theo descending\n",
    "grouped_data = grouped_data.count().sort_values(by='verified',ascending=False)\n",
    "\n",
    "grouped_data.head(10)"
   ]
  },
  {
   "cell_type": "markdown",
   "id": "0b11cf7a",
   "metadata": {},
   "source": [
    "Tiếp theo là tiến hành trực quan hóa dữ liệu. Thế nhưng nếu chỉ để nguyên giá trị `country_code` sẽ gây khó hiểu, do đó, chúng ta sẽ replace các giá trị này bằng tên của Quốc gia tương ứng."
   ]
  },
  {
   "cell_type": "code",
   "execution_count": 43,
   "id": "8cb525f2",
   "metadata": {},
   "outputs": [
    {
     "data": {
      "text/plain": [
       "Text(0, 0.5, 'Tên quốc gia')"
      ]
     },
     "execution_count": 43,
     "metadata": {},
     "output_type": "execute_result"
    },
    {
     "data": {
      "image/png": "[encoded data removed]",
      "text/plain": [
       "<Figure size 1080x576 with 1 Axes>"
      ]
     },
     "metadata": {
      "needs_background": "light"
     },
     "output_type": "display_data"
    }
   ],
   "source": [
    "# Gán lại tên các Quốc gia\n",
    "plot_data = grouped_data[:10]\n",
    "plot_data.index = ['Không xác định', 'Mỹ', 'Vương quốc Anh', 'Hà Lan', 'Đức', 'Pháp', 'Canada', 'Úc', 'Brazil', 'Thụy Điển']\n",
    "\n",
    "# 10 Quốc gia có số lượng nghệ sĩ verified nhiều nhất\n",
    "fig, ax = plt.subplots()\n",
    "fig.set_size_inches(15, 8)\n",
    "\n",
    "# Barplot\n",
    "ax = sns.barplot(data=plot_data[:10], y=plot_data.index[:10], x='verified', palette='flare')\n",
    "\n",
    "# Tùy chỉnh biểu đồ\n",
    "ax.set_title('Các quốc gia có số lượng nghệ sĩ được xác minh cao nhất', fontdict={'size':20})\n",
    "ax.spines['top'].set_visible(False)\n",
    "ax.spines['right'].set_visible(False)\n",
    "ax.set_xlabel('Số lượng nghệ sĩ verified', fontdict={'size':15})\n",
    "ax.set_ylabel('Tên quốc gia', fontdict={'size':15})"
   ]
  },
  {
   "cell_type": "markdown",
   "id": "ce95d6f5",
   "metadata": {},
   "source": [
    "Dựa vào các kết quả thu được, chúng ta có các nhận xét sau:\n",
    "- Thật ngạc nhiên khi mà số nghệ sĩ có quốc gia không xác định lại được **xác minh** nhiều đến thế. Có thể *quốc gia* không phải là tiêu chí để *Soundcloud* xác minh nghệ sĩ.\n",
    "- Nếu không tính quốc gia không xác định thì **Mỹ** là quốc gia có *số lượng nghệ sĩ được xác minh nhiều nhất*, hơn vượt bậc so với quốc gia xếp hạng kế tiếp: Vương quốc Anh. Nguyên do có thể là do **Mỹ** có số lượng **Rapper** (chủ yếu là các Rapper da màu) nhiều mà theo như chúng ta đã phân tích ở câu hỏi trước thì *Soundcloud* rất phổ biến cho giới *Underground*, đặc biệt là **Rapper**.\n",
    "- Ngoài ra, chúng ta có thể thấy rằng đa số các quốc gia ở đây là các *quốc gia phát triển* và hầu như ngôn ngữ chủ yếu là *tiếng Anh* (Châu Âu và Bắc Mĩ).\n",
    "\n",
    "### Sự tương quan giữa nghệ sĩ được xác minh (verified) và lượt nghe các track của họ\n",
    "Để giải quyết câu hỏi này, chúng ta sẽ sử dụng cả 2 bảng `user` và `track`. Cụ thể, với mỗi nghệ sĩ (user), ta đếm số lượng nghe lại của các bài hát thuộc về user đó. Sau đó, chia thành 2 nhóm *được xác minh* và *chưa được xác minh*, rồi tiến hành so sánh dựa trên phân bố của chúng. Các bước thực hiện:\n",
    "1. Với bảng `track`, nhóm dữ liệu bởi `user_id` và đếm tổng số `playback_count` của user đó.\n",
    "2. Inner join với bảng `user` dựa trên `user_id`.\n",
    "3. Dùng **Box plot** trực quan hóa phân bố `playback_count` của 2 nhóm: *chưa được xác minh* và *đã được xác minh*\n",
    "4. Dùng thống kê để tính chính xác *Tứ phân vị* của dữ liệu."
   ]
  },
  {
   "cell_type": "code",
   "execution_count": 55,
   "id": "b1008cb7",
   "metadata": {},
   "outputs": [
    {
     "data": {
      "text/html": [
       "<div>\n",
       "<style scoped>\n",
       "    .dataframe tbody tr th:only-of-type {\n",
       "        vertical-align: middle;\n",
       "    }\n",
       "\n",
       "    .dataframe tbody tr th {\n",
       "        vertical-align: top;\n",
       "    }\n",
       "\n",
       "    .dataframe thead th {\n",
       "        text-align: right;\n",
       "    }\n",
       "</style>\n",
       "<table border=\"1\" class=\"dataframe\">\n",
       "  <thead>\n",
       "    <tr style=\"text-align: right;\">\n",
       "      <th></th>\n",
       "      <th>playback_count</th>\n",
       "      <th>id</th>\n",
       "      <th>verified</th>\n",
       "    </tr>\n",
       "  </thead>\n",
       "  <tbody>\n",
       "    <tr>\n",
       "      <th>0</th>\n",
       "      <td>1130385.0</td>\n",
       "      <td>187</td>\n",
       "      <td>True</td>\n",
       "    </tr>\n",
       "    <tr>\n",
       "      <th>1</th>\n",
       "      <td>455130.0</td>\n",
       "      <td>193</td>\n",
       "      <td>True</td>\n",
       "    </tr>\n",
       "    <tr>\n",
       "      <th>2</th>\n",
       "      <td>38979045.0</td>\n",
       "      <td>203</td>\n",
       "      <td>True</td>\n",
       "    </tr>\n",
       "    <tr>\n",
       "      <th>3</th>\n",
       "      <td>38979045.0</td>\n",
       "      <td>203</td>\n",
       "      <td>True</td>\n",
       "    </tr>\n",
       "    <tr>\n",
       "      <th>4</th>\n",
       "      <td>4699872.0</td>\n",
       "      <td>215</td>\n",
       "      <td>True</td>\n",
       "    </tr>\n",
       "    <tr>\n",
       "      <th>...</th>\n",
       "      <td>...</td>\n",
       "      <td>...</td>\n",
       "      <td>...</td>\n",
       "    </tr>\n",
       "    <tr>\n",
       "      <th>8870</th>\n",
       "      <td>491.0</td>\n",
       "      <td>1041176245</td>\n",
       "      <td>False</td>\n",
       "    </tr>\n",
       "    <tr>\n",
       "      <th>8871</th>\n",
       "      <td>489.0</td>\n",
       "      <td>1041442963</td>\n",
       "      <td>False</td>\n",
       "    </tr>\n",
       "    <tr>\n",
       "      <th>8872</th>\n",
       "      <td>77.0</td>\n",
       "      <td>1042109443</td>\n",
       "      <td>False</td>\n",
       "    </tr>\n",
       "    <tr>\n",
       "      <th>8873</th>\n",
       "      <td>5720.0</td>\n",
       "      <td>1043011867</td>\n",
       "      <td>False</td>\n",
       "    </tr>\n",
       "    <tr>\n",
       "      <th>8874</th>\n",
       "      <td>110.0</td>\n",
       "      <td>1043528347</td>\n",
       "      <td>False</td>\n",
       "    </tr>\n",
       "  </tbody>\n",
       "</table>\n",
       "<p>8875 rows × 3 columns</p>\n",
       "</div>"
      ],
      "text/plain": [
       "      playback_count          id verified\n",
       "0          1130385.0         187     True\n",
       "1           455130.0         193     True\n",
       "2         38979045.0         203     True\n",
       "3         38979045.0         203     True\n",
       "4          4699872.0         215     True\n",
       "...              ...         ...      ...\n",
       "8870           491.0  1041176245    False\n",
       "8871           489.0  1041442963    False\n",
       "8872            77.0  1042109443    False\n",
       "8873          5720.0  1043011867    False\n",
       "8874           110.0  1043528347    False\n",
       "\n",
       "[8875 rows x 3 columns]"
      ]
     },
     "execution_count": 55,
     "metadata": {},
     "output_type": "execute_result"
    }
   ],
   "source": [
    "# Clone dữ liệu để tránh chỉnh sửa trên dữ liệu gốc\n",
    "data_df = track_df[['playback_count', 'user_id']]\n",
    "\n",
    "# Nhóm dữ liệu bởi user_id\n",
    "grouped_data = data_df.groupby(by='user_id')\n",
    "\n",
    "# Tỉnh tổng playback_count\n",
    "grouped_data = grouped_data.sum()\n",
    "\n",
    "# Inner join với bảng user dựa trên user_id\n",
    "merged_data = pd.merge(left=grouped_data,\n",
    "                       right=user_df[['id', 'verified']],\n",
    "                       left_on='user_id',\n",
    "                       right_on='id',\n",
    "                       how='inner'\n",
    "                      )\n",
    "\n",
    "# Chỉnh sửa lại kiểu dữ liệu cột verified\n",
    "merged_data['verified'] = merged_data['verified'].apply(lambda val: str(val)) \n",
    "\n",
    "merged_data"
   ]
  },
  {
   "cell_type": "markdown",
   "id": "87f7efdb",
   "metadata": {},
   "source": [
    "Tiếp theo, ta tiến hành trực quan hóa dữ liệu bằng **Box plot**."
   ]
  },
  {
   "cell_type": "code",
   "execution_count": 71,
   "id": "5fcb447e",
   "metadata": {
    "scrolled": false
   },
   "outputs": [
    {
     "data": {
      "text/plain": [
       "[Text(0, 0, 'Đã xác minh'), Text(0, 1, 'Chưa xác minh')]"
      ]
     },
     "execution_count": 71,
     "metadata": {},
     "output_type": "execute_result"
    },
    {
     "data": {
      "image/png": "[encoded data removed]",
      "text/plain": [
       "<Figure size 1080x576 with 1 Axes>"
      ]
     },
     "metadata": {
      "needs_background": "light"
     },
     "output_type": "display_data"
    }
   ],
   "source": [
    "# Phân bố số lượt nghe của hai nhóm Đã xác minh và Chưa xác minh\n",
    "fig, ax = plt.subplots()\n",
    "fig.set_size_inches(15, 8)\n",
    "\n",
    "# Boxplot\n",
    "ax = sns.boxplot(data=merged_data, \n",
    "                 x='playback_count', \n",
    "                 y='verified', \n",
    "                 palette='hot', \n",
    "                 linewidth=2.5,\n",
    "                 fliersize=5,\n",
    "                 order=['True', 'False']\n",
    "                )\n",
    "\n",
    "# Tùy chỉnh biểu đồ\n",
    "ax.set_title('Phân bố số lượt nghe của hai nhóm Đã xác minh và Chưa xác minh', fontdict={'size':20})\n",
    "ax.spines['top'].set_visible(False)\n",
    "ax.spines['right'].set_visible(False)\n",
    "ax.set_xlabel('Số lượt nghe', fontdict={'size':15})\n",
    "ax.set_ylabel('Nhóm', fontdict={'size':15})\n",
    "ax.set_yticklabels(labels=['Đã xác minh', 'Chưa xác minh'])"
   ]
  },
  {
   "cell_type": "markdown",
   "id": "19afebb3",
   "metadata": {},
   "source": [
    "Biểu đồ ở trên không thể hiện rõ *Tứ phân vị* (Quartile) của dữ liệu, nên ta sẽ tự tính toán các con số"
   ]
  },
  {
   "cell_type": "code",
   "execution_count": 73,
   "id": "7d16980f",
   "metadata": {},
   "outputs": [
    {
     "data": {
      "text/html": [
       "<div>\n",
       "<style scoped>\n",
       "    .dataframe tbody tr th:only-of-type {\n",
       "        vertical-align: middle;\n",
       "    }\n",
       "\n",
       "    .dataframe tbody tr th {\n",
       "        vertical-align: top;\n",
       "    }\n",
       "\n",
       "    .dataframe thead tr th {\n",
       "        text-align: left;\n",
       "    }\n",
       "\n",
       "    .dataframe thead tr:last-of-type th {\n",
       "        text-align: right;\n",
       "    }\n",
       "</style>\n",
       "<table border=\"1\" class=\"dataframe\">\n",
       "  <thead>\n",
       "    <tr>\n",
       "      <th></th>\n",
       "      <th colspan=\"8\" halign=\"left\">playback_count</th>\n",
       "    </tr>\n",
       "    <tr>\n",
       "      <th></th>\n",
       "      <th>count</th>\n",
       "      <th>mean</th>\n",
       "      <th>std</th>\n",
       "      <th>min</th>\n",
       "      <th>25%</th>\n",
       "      <th>50%</th>\n",
       "      <th>75%</th>\n",
       "      <th>max</th>\n",
       "    </tr>\n",
       "    <tr>\n",
       "      <th>verified</th>\n",
       "      <th></th>\n",
       "      <th></th>\n",
       "      <th></th>\n",
       "      <th></th>\n",
       "      <th></th>\n",
       "      <th></th>\n",
       "      <th></th>\n",
       "      <th></th>\n",
       "    </tr>\n",
       "  </thead>\n",
       "  <tbody>\n",
       "    <tr>\n",
       "      <th>False</th>\n",
       "      <td>5870.0</td>\n",
       "      <td>2.947729e+05</td>\n",
       "      <td>1.818978e+06</td>\n",
       "      <td>0.0</td>\n",
       "      <td>2075.0</td>\n",
       "      <td>15104.5</td>\n",
       "      <td>91046.25</td>\n",
       "      <td>5.989130e+07</td>\n",
       "    </tr>\n",
       "    <tr>\n",
       "      <th>True</th>\n",
       "      <td>3005.0</td>\n",
       "      <td>1.691470e+07</td>\n",
       "      <td>1.033694e+08</td>\n",
       "      <td>28.0</td>\n",
       "      <td>202711.0</td>\n",
       "      <td>961183.0</td>\n",
       "      <td>4882021.00</td>\n",
       "      <td>2.239520e+09</td>\n",
       "    </tr>\n",
       "  </tbody>\n",
       "</table>\n",
       "</div>"
      ],
      "text/plain": [
       "         playback_count                                                        \\\n",
       "                  count          mean           std   min       25%       50%   \n",
       "verified                                                                        \n",
       "False            5870.0  2.947729e+05  1.818978e+06   0.0    2075.0   15104.5   \n",
       "True             3005.0  1.691470e+07  1.033694e+08  28.0  202711.0  961183.0   \n",
       "\n",
       "                                    \n",
       "                 75%           max  \n",
       "verified                            \n",
       "False       91046.25  5.989130e+07  \n",
       "True      4882021.00  2.239520e+09  "
      ]
     },
     "execution_count": 73,
     "metadata": {},
     "output_type": "execute_result"
    }
   ],
   "source": [
    "# Thống kê của dữ liệu\n",
    "merged_data[['playback_count', 'verified']].groupby(by='verified').describe()"
   ]
  },
  {
   "cell_type": "markdown",
   "id": "0a976b3f",
   "metadata": {},
   "source": [
    "Với các kết quả ở trên, ta có nhận xét sau:\n",
    "- Dễ dàng thấy được số lượt nghe của nhóm **Đã xác minh** cao hơn hẳn so với nhóm **Chưa xác minh** qua các thông kê như **mean** và **median**. Chúng ta có thể giải thích điều này như sau: các nghệ sĩ **được xác minh** phải là nghệ sĩ *nổi tiếng*, vì vậy số lượt nghe của họ được *buff* với lượng fan đông đảo sẵn sàng *cày* lượt nghe cho idol của mình."
   ]
  }
 ],
 "metadata": {
  "kernelspec": {
   "display_name": "Python 3 (ipykernel)",
   "language": "python",
   "name": "python3"
  },
  "language_info": {
   "codemirror_mode": {
    "name": "ipython",
    "version": 3
   },
   "file_extension": ".py",
   "mimetype": "text/x-python",
   "name": "python",
   "nbconvert_exporter": "python",
   "pygments_lexer": "ipython3",
   "version": "3.8.8"
  },
  "toc": {
   "base_numbering": 1,
   "nav_menu": {},
   "number_sections": true,
   "sideBar": true,
   "skip_h1_title": true,
   "title_cell": "Table of Contents",
   "title_sidebar": "Contents",
   "toc_cell": true,
   "toc_position": {},
   "toc_section_display": true,
   "toc_window_display": false
  }
 },
 "nbformat": 4,
 "nbformat_minor": 5
}
