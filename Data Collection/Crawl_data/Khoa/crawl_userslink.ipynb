{
 "cells": [
  {
   "cell_type": "code",
   "execution_count": 1,
   "id": "a14b629d",
   "metadata": {},
   "outputs": [],
   "source": [
    "from selenium import webdriver\n",
    "import requests\n",
    "import requests_cache\n",
    "from bs4 import BeautifulSoup\n",
    "import time\n",
    "import json\n",
    "import re\n",
    "import pandas as pd \n",
    "from datetime import datetime, timedelta \n",
    "from datetime import date\n",
    "import urllib.robotparser \n",
    "from selenium.webdriver.chrome.service import Service\n",
    "from selenium.webdriver.common.by import By"
   ]
  },
  {
   "cell_type": "markdown",
   "id": "df1736bb",
   "metadata": {},
   "source": [
    "# Set up"
   ]
  },
  {
   "cell_type": "code",
   "execution_count": 2,
   "id": "213f8402",
   "metadata": {},
   "outputs": [],
   "source": [
    "url = \"https://soundcloud.com/search/people?q=*\"\n",
    "service = Service(\"chromedriver.exe\")\n",
    "#cái này setup theo mấy trang nó chỉ!!\n",
    "driver = webdriver.Chrome(service = service)\n",
    "driver.get(url)"
   ]
  },
  {
   "cell_type": "markdown",
   "id": "5dd0d39a",
   "metadata": {},
   "source": [
    "# Sử dụng chrome driven với theo đường url"
   ]
  },
  {
   "cell_type": "code",
   "execution_count": 3,
   "id": "4d31486c",
   "metadata": {},
   "outputs": [],
   "source": [
    "time.sleep(1)\n",
    "soup = BeautifulSoup(driver.page_source)\n",
    "cookies_class = soup.find(\"button\",{\"id\":\"onetrust-accept-btn-handler\"})[\"id\"]\n",
    "cookies_click = driver.find_element(By.XPATH,\"//button[@id=\\'\" + cookies_class + \"\\']\")\n",
    "cookies_click.click()"
   ]
  },
  {
   "cell_type": "markdown",
   "id": "769560dd",
   "metadata": {},
   "source": [
    "# Bắt đầu parse user url"
   ]
  },
  {
   "cell_type": "code",
   "execution_count": 4,
   "id": "0ba746a7",
   "metadata": {},
   "outputs": [
    {
     "name": "stdout",
     "output_type": "stream",
     "text": [
      "$#########$#########$#########$#########$#########$#########$#########$#########"
     ]
    }
   ],
   "source": [
    "for i in range(800):\n",
    "    if i%100==0:\n",
    "        print(\"$\",end=\"\")\n",
    "    else:\n",
    "        if i%10 == 0:\n",
    "            print(\"#\",end=\"\")\n",
    "    driver.execute_script(\"window.scrollTo(0,document.body.scrollHeight)\")  #scroll xuồng dưới cùng để load dữ liệu về\n",
    "    time.sleep(1)"
   ]
  },
  {
   "cell_type": "code",
   "execution_count": 5,
   "id": "259f519d",
   "metadata": {},
   "outputs": [],
   "source": [
    "soup = BeautifulSoup(driver.page_source)\n",
    "search = soup.find_all(\"li\",{\"class\":\"searchList__item\"})  # mỗi user sẽ được nằm trong tag li class = \"searchList__item\""
   ]
  },
  {
   "cell_type": "code",
   "execution_count": 6,
   "id": "089eb7a5",
   "metadata": {},
   "outputs": [
    {
     "data": {
      "text/plain": [
       "4640"
      ]
     },
     "execution_count": 6,
     "metadata": {},
     "output_type": "execute_result"
    }
   ],
   "source": [
    "len(search)"
   ]
  },
  {
   "cell_type": "markdown",
   "id": "2ac4883e",
   "metadata": {},
   "source": [
    "# Kiểm tra các trường dữ liệu"
   ]
  },
  {
   "cell_type": "code",
   "execution_count": 7,
   "id": "1724079e",
   "metadata": {},
   "outputs": [
    {
     "name": "stdout",
     "output_type": "stream",
     "text": [
      "2,809,462 followers\n",
      "2809462\n",
      "97,219 followers\n",
      "97219\n",
      "1,297,873 followers\n",
      "1297873\n",
      "1,669 followers\n",
      "1669\n",
      "800,756 followers\n",
      "800756\n",
      "None\n",
      "None\n",
      "None\n",
      "None\n",
      "None\n",
      "<span class=\"verifiedBadge userItem__verifiedBadge\" title=\"Verified\"><span class=\"sc-status-icon sc-status-icon-verified sc-status-icon-small sc-ir\">Verified</span></span>\n",
      "<span class=\"verifiedBadge userItem__verifiedBadge\" title=\"Verified\"><span class=\"sc-status-icon sc-status-icon-verified sc-status-icon-small sc-ir\">Verified</span></span>\n",
      "None\n",
      "<span class=\"verifiedBadge userItem__verifiedBadge\" title=\"Verified\"><span class=\"sc-status-icon sc-status-icon-verified sc-status-icon-small sc-ir\">Verified</span></span>\n",
      "<span class=\"verifiedBadge userItem__verifiedBadge\" title=\"Verified\"><span class=\"sc-status-icon sc-status-icon-verified sc-status-icon-small sc-ir\">Verified</span></span>\n"
     ]
    }
   ],
   "source": [
    "for i in range(5):\n",
    "    text = search[i].find(\"li\",{\"span\",\"sc-ministats-item\"})[\"title\"]\n",
    "    print(text)\n",
    "    print(int(text[:-9].replace(\",\",\"\")))\n",
    "    \n",
    "for i in range(10):\n",
    "    print(search[i].find(\"span\",{\"class\",\"verifiedBadge userItem__verifiedBadge\"}))"
   ]
  },
  {
   "cell_type": "markdown",
   "id": "69563ef4",
   "metadata": {},
   "source": [
    "# Lọc lại good user"
   ]
  },
  {
   "cell_type": "code",
   "execution_count": 8,
   "id": "51374e30",
   "metadata": {},
   "outputs": [],
   "source": [
    "good_users = []\n",
    "for item in search:\n",
    "    if item.find(\"li\",{\"span\",\"sc-ministats-item\"})== None:\n",
    "        continue\n",
    "    followers = item.find(\"li\",{\"span\",\"sc-ministats-item\"})[\"title\"]\n",
    "    if len(followers) > 10:\n",
    "        followers = int(followers[:-9].replace(\",\",\"\"))\n",
    "    else:\n",
    "        followers = 0\n",
    "    \n",
    "    verified = item.find(\"span\",{\"class\",\"verifiedBadge userItem__verifiedBadge\"}) != None\n",
    "    if followers > 10000 or verified:\n",
    "        good_users.append(item)"
   ]
  },
  {
   "cell_type": "code",
   "execution_count": 9,
   "id": "007e6c03",
   "metadata": {},
   "outputs": [
    {
     "data": {
      "text/plain": [
       "835"
      ]
     },
     "execution_count": 9,
     "metadata": {},
     "output_type": "execute_result"
    }
   ],
   "source": [
    "len(good_users)"
   ]
  },
  {
   "cell_type": "markdown",
   "id": "7fe30891",
   "metadata": {},
   "source": [
    "### Sau bước này, dường như không đủ số lượng user, cho nên tôi đã thực hiện như ở trên với 1 cách thức khác. \n",
    "\n",
    "### Tuy nhiên, chỉ có thể lọc được những user ở London. tất cả các bước dưới đây đều tương tự như ở trên."
   ]
  },
  {
   "cell_type": "code",
   "execution_count": 10,
   "id": "e21dc1d7",
   "metadata": {},
   "outputs": [],
   "source": [
    "f = open(\"good_user.txt\",\"w\")\n",
    "for user in good_users:\n",
    "    f.write(\"soundcloud.com\"+user.a[\"href\"])\n",
    "    f.write(\"\\n\")\n",
    "f.close()"
   ]
  },
  {
   "cell_type": "code",
   "execution_count": 11,
   "id": "b8f933d9",
   "metadata": {},
   "outputs": [],
   "source": [
    "driver.quit()"
   ]
  },
  {
   "cell_type": "code",
   "execution_count": 12,
   "id": "e26370bd",
   "metadata": {},
   "outputs": [],
   "source": [
    "url = \"https://soundcloud.com/search/people?q=*&filter.place=london\"\n",
    "service = Service(\"chromedriver.exe\")\n",
    "#cái này setup theo mấy trang nó chỉ!!\n",
    "driver = webdriver.Chrome(service = service)\n",
    "driver.get(url)"
   ]
  },
  {
   "cell_type": "code",
   "execution_count": 13,
   "id": "5a16c9b7",
   "metadata": {},
   "outputs": [],
   "source": [
    "time.sleep(1)\n",
    "soup = BeautifulSoup(driver.page_source)\n",
    "cookies_class = soup.find(\"button\",{\"id\":\"onetrust-accept-btn-handler\"})[\"id\"]\n",
    "cookies_click = driver.find_element(By.XPATH,\"//button[@id=\\'\" + cookies_class + \"\\']\")\n",
    "cookies_click.click()"
   ]
  },
  {
   "cell_type": "code",
   "execution_count": 14,
   "id": "b978218b",
   "metadata": {},
   "outputs": [
    {
     "name": "stdout",
     "output_type": "stream",
     "text": [
      "$#########$#########$#########$#########$#########$#########$#########$#########"
     ]
    }
   ],
   "source": [
    "for i in range(800):\n",
    "    if i%100==0:\n",
    "        print(\"$\",end=\"\")\n",
    "    else:\n",
    "        if i%10 == 0:\n",
    "            print(\"#\",end=\"\")\n",
    "    driver.execute_script(\"window.scrollTo(0,document.body.scrollHeight)\")\n",
    "    time.sleep(1)\n",
    "soup = BeautifulSoup(driver.page_source)\n",
    "search = soup.find_all(\"li\",{\"class\":\"searchList__item\"})"
   ]
  },
  {
   "cell_type": "code",
   "execution_count": 15,
   "id": "8eceb76f",
   "metadata": {},
   "outputs": [],
   "source": [
    "good_users = []\n",
    "for item in search:\n",
    "    if item.find(\"li\",{\"span\",\"sc-ministats-item\"})== None:\n",
    "        continue\n",
    "    followers = item.find(\"li\",{\"span\",\"sc-ministats-item\"})[\"title\"]\n",
    "    if len(followers) > 10:\n",
    "        followers = int(followers[:-9].replace(\",\",\"\"))\n",
    "    else:\n",
    "        followers = 0\n",
    "    \n",
    "    verified = item.find(\"span\",{\"class\",\"verifiedBadge userItem__verifiedBadge\"}) != None\n",
    "    if followers > 10000 or verified:\n",
    "        good_users.append(item)"
   ]
  },
  {
   "cell_type": "code",
   "execution_count": 16,
   "id": "b1d48086",
   "metadata": {},
   "outputs": [],
   "source": [
    "f = open(\"good_user.txt\",\"a\")\n",
    "f.write(\"\\n\")\n",
    "for user in good_users:\n",
    "    f.write(\"soundcloud.com\"+user.a[\"href\"])\n",
    "    f.write(\"\\n\")\n",
    "f.close()"
   ]
  },
  {
   "cell_type": "code",
   "execution_count": 17,
   "id": "0b0a8f27",
   "metadata": {},
   "outputs": [
    {
     "data": {
      "text/plain": [
       "1743"
      ]
     },
     "execution_count": 17,
     "metadata": {},
     "output_type": "execute_result"
    }
   ],
   "source": [
    "len(good_users)"
   ]
  },
  {
   "cell_type": "code",
   "execution_count": null,
   "id": "75bf3c2e",
   "metadata": {},
   "outputs": [],
   "source": []
  }
 ],
 "metadata": {
  "kernelspec": {
   "display_name": "Python 3 (ipykernel)",
   "language": "python",
   "name": "python3"
  },
  "language_info": {
   "codemirror_mode": {
    "name": "ipython",
    "version": 3
   },
   "file_extension": ".py",
   "mimetype": "text/x-python",
   "name": "python",
   "nbconvert_exporter": "python",
   "pygments_lexer": "ipython3",
   "version": "3.7.9"
  }
 },
 "nbformat": 4,
 "nbformat_minor": 5
}
