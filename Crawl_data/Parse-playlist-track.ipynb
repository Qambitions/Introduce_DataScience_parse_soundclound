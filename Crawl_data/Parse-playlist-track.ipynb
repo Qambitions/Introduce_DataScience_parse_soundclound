{
 "cells": [
  {
   "cell_type": "code",
   "execution_count": 1,
   "id": "aa22ae73",
   "metadata": {},
   "outputs": [],
   "source": [
    "from selenium import webdriver\n",
    "import requests\n",
    "import requests_cache\n",
    "from bs4 import BeautifulSoup\n",
    "import time\n",
    "import json\n",
    "import re\n",
    "import pandas as pd \n",
    "from datetime import datetime, timedelta \n",
    "from datetime import date\n",
    "import urllib.robotparser \n",
    "from selenium.webdriver.chrome.service import Service\n",
    "from selenium.webdriver.common.by import By"
   ]
  },
  {
   "cell_type": "markdown",
   "id": "25f9a399",
   "metadata": {},
   "source": [
    "# Set up"
   ]
  },
  {
   "cell_type": "code",
   "execution_count": 2,
   "id": "1f038608",
   "metadata": {},
   "outputs": [],
   "source": [
    "# YOUR CODE HERE\n",
    "def denied(response):\n",
    "    if \"\\\"incomplete_results\\\":true\" in response.text:\n",
    "        return False\n",
    "    else:\n",
    "        return True\n",
    "requests_cache.install_cache(expire_after = None, filter_fn = denied)"
   ]
  },
  {
   "cell_type": "code",
   "execution_count": 3,
   "id": "0fc06f19",
   "metadata": {},
   "outputs": [],
   "source": [
    "url = \"https://soundcloud.com/search/people?q=*\"\n",
    "service = Service(\"chromedriver.exe\")\n",
    "#cái này setup theo mấy trang nó chỉ!!\n",
    "driver1 = webdriver.Chrome(service = service)\n",
    "driver1.get(url)\n",
    "soup = BeautifulSoup(driver1.page_source)\n",
    "cookies_class = soup.find(\"button\",{\"id\":\"onetrust-accept-btn-handler\"})[\"id\"]\n",
    "cookies_click = driver1.find_element(By.XPATH,\"//button[@id=\\'\" + cookies_class + \"\\']\")\n",
    "cookies_click.click()\n",
    "\n",
    "driver2 = webdriver.Chrome(service = service)\n",
    "driver2.get(url)\n",
    "soup = BeautifulSoup(driver2.page_source)\n",
    "cookies_class = soup.find(\"button\",{\"id\":\"onetrust-accept-btn-handler\"})[\"id\"]\n",
    "cookies_click = driver2.find_element(By.XPATH,\"//button[@id=\\'\" + cookies_class + \"\\']\")\n",
    "cookies_click.click()\n",
    "\n",
    "driver3 = webdriver.Chrome(service = service)\n",
    "driver3.get(url)\n",
    "soup = BeautifulSoup(driver3.page_source)\n",
    "cookies_class = soup.find(\"button\",{\"id\":\"onetrust-accept-btn-handler\"})[\"id\"]\n",
    "cookies_click = driver3.find_element(By.XPATH,\"//button[@id=\\'\" + cookies_class + \"\\']\")\n",
    "cookies_click.click()"
   ]
  },
  {
   "cell_type": "markdown",
   "id": "17361ff4",
   "metadata": {},
   "source": [
    "## Hàm \"dont_have_playlist\" dùng để parse track khi user không có playlist nào. "
   ]
  },
  {
   "cell_type": "code",
   "execution_count": 4,
   "id": "7c03e917",
   "metadata": {},
   "outputs": [],
   "source": [
    "def dont_have_playlist(page_source):    \n",
    "    soup = BeautifulSoup(page_source)\n",
    "    sound_item = soup.find_all(\"li\",{\"class\",\"soundList__item\"})\n",
    "\n",
    "    count_item = 0\n",
    "    for item in sound_item:\n",
    "        if count_item == 7:\n",
    "            break\n",
    "        count_item += 1\n",
    "        item_url = item.find(\"a\",{\"class\",\"sound__coverArt\"})[\"href\"]\n",
    "#             print(item_url)\n",
    "        sound_url = \"https://soundcloud.com/\" + item_url\n",
    "        req = requests.get(sound_url)\n",
    "        soup = BeautifulSoup(req.text, \"lxml\")\n",
    "        search = soup.find_all(\"script\",{\"\":\"\"})\n",
    "        for script in search:\n",
    "            if \"window.__sc_hydration\" in script.text:\n",
    "                search = script\n",
    "                break\n",
    "\n",
    "        res = json.loads(search.text[24:-1])\n",
    "        hydratable_sound = res[6][\"data\"]\n",
    "#             print(hydratable_sound)\n",
    "#         for i in hydratable_sound.keys():\n",
    "#             if hydratable_sound[i] == \"\":\n",
    "#                 hydratable_sound[i] = \"None\"\n",
    "\n",
    "        for attr in attributes_track:\n",
    "            output_track.write(str(hydratable_sound[attr]).replace(\",\",\";\"))\n",
    "            output_track.write(\",\")\n",
    "        output_track.write(\"\\n\")"
   ]
  },
  {
   "cell_type": "markdown",
   "id": "2fa1315a",
   "metadata": {},
   "source": [
    "## Hàm \"write_file_track\" dùng để ghi các track đã vào file track.csv"
   ]
  },
  {
   "cell_type": "code",
   "execution_count": 5,
   "id": "b0bdfd70",
   "metadata": {},
   "outputs": [],
   "source": [
    "def write_file_track(hydratable_sound):\n",
    "#         for i in hydratable_sound.keys():\n",
    "#             if hydratable_sound[i] == \"\":\n",
    "#                 hydratable_sound[i] = \"None\"\n",
    "\n",
    "        for attr in attributes_track:\n",
    "            output_track.write(str(hydratable_sound[attr]).replace(\",\",\";\"))\n",
    "            output_track.write(\",\")\n",
    "        output_track.write(\"\\n\")"
   ]
  },
  {
   "cell_type": "markdown",
   "id": "dafe2eb0",
   "metadata": {},
   "source": [
    "# Hàm \"write_file_playlist\" dùng để ghi các playlist vào file playlist.csv"
   ]
  },
  {
   "cell_type": "code",
   "execution_count": 6,
   "id": "6dccd92e",
   "metadata": {},
   "outputs": [],
   "source": [
    "def write_file_playlist(page_source):    \n",
    "    soup = BeautifulSoup(page_source)\n",
    "    sound_item = soup.find_all(\"li\",{\"class\",\"soundList__item\"})\n",
    "\n",
    "    count_item = 0\n",
    "    count_track = 0\n",
    "    for item in sound_item:\n",
    "        if count_item == 6:\n",
    "            break\n",
    "        count_item += 1\n",
    "        item_url = item.find(\"a\",{\"class\",\"sound__coverArt\"})[\"href\"]\n",
    "#             print(item_url)\n",
    "        sound_url = \"https://soundcloud.com/\" + item_url\n",
    "        req = requests.get(sound_url)\n",
    "        soup = BeautifulSoup(req.text, \"lxml\")\n",
    "        search = soup.find_all(\"script\",{\"\":\"\"})\n",
    "        for script in search:\n",
    "            if \"window.__sc_hydration\" in script.text:\n",
    "                search = script\n",
    "                break\n",
    "#         print(search)\n",
    "        res = json.loads(search.text[24:-1])\n",
    "        hydratable_playlist = res[6][\"data\"]\n",
    "#             print(hydratable_playlist)\n",
    "#         for i in hydratable_playlist.keys():\n",
    "#             if hydratable_playlist[i] == \"\":\n",
    "#                 hydratable_playlist[i] = \"None\"\n",
    "\n",
    "        for attr in attributes_playlist:\n",
    "            if attr == \"tracks\":\n",
    "                break\n",
    "            output_playlist.write(str(hydratable_playlist[attr]).replace(\",\",\";\").replace(\"\\n\",\"/\"))\n",
    "            output_playlist.write(\",\")\n",
    "            \n",
    "        trackid_list = \"\"\n",
    "        for track in hydratable_playlist[\"tracks\"]:\n",
    "            trackid_list = trackid_list + str(track[\"id\"]) + \";\"\n",
    "            if len(track) > len(attributes_track):\n",
    "                count_track += 1\n",
    "                write_file_track(track)\n",
    "        output_playlist.write(trackid_list)\n",
    "        output_playlist.write(\"\\n\")\n",
    "    if count_track <= 3: return False\n",
    "    else: return True"
   ]
  },
  {
   "cell_type": "markdown",
   "id": "c2e16737",
   "metadata": {},
   "source": [
    "## Các attrinutes cần được ghi ra ở các file csv"
   ]
  },
  {
   "cell_type": "code",
   "execution_count": 7,
   "id": "2ef83da4",
   "metadata": {},
   "outputs": [
    {
     "data": {
      "text/plain": [
       "1"
      ]
     },
     "execution_count": 7,
     "metadata": {},
     "output_type": "execute_result"
    }
   ],
   "source": [
    "attributes_playlist = [\"artwork_url\",\"created_at\",\"duration\",\"embeddable_by\"\n",
    "              ,\"genre\",\"id\",\"kind\",\"label_name\",\"last_modified\",\"license\"\n",
    "              ,\"likes_count\",\"managed_by_feeds\",\"permalink_url\",\"release_date\"\n",
    "              ,\"purchase_title\",\"purchase_url\",\"reposts_count\",\"sharing\"\n",
    "              ,\"tag_list\",\"title\",\"user_id\",\"is_album\"\n",
    "              ,\"published_at\",\"display_date\",\"track_count\",\"tracks\"]\n",
    "\n",
    "attributes_track = [\"artwork_url\",\"commentable\",\"comment_count\",\"created_at\",\"downloadable\"\n",
    "             ,\"download_count\",\"duration\",\"full_duration\",\"embeddable_by\",\"genre\"\n",
    "             ,\"has_downloads_left\",\"id\",\"kind\",\"label_name\",\"last_modified\",\"license\"\n",
    "             ,\"likes_count\",\"permalink_url\",\"playback_count\",\"public\",\"purchase_title\"\n",
    "             ,\"purchase_url\",\"release_date\",\"reposts_count\",\"sharing\",\"state\",\"streamable\"\n",
    "             ,\"tag_list\",\"title\",\"track_format\",\"user_id\",\"visuals\",\"waveform_url\",\"display_date\"\n",
    "             ,\"track_authorization\",\"monetization_model\",\"policy\"]\n",
    "\n",
    "output_playlist = open(\"playlist.csv\",\"w\",encoding = \"utf-8\")\n",
    "output_track = open(\"track.csv\",\"w\",encoding = \"utf-8\")\n",
    "\n",
    "for attr in attributes_playlist:\n",
    "    output_playlist.write(attr)\n",
    "    output_playlist.write(\",\")\n",
    "output_playlist.write(\"\\n\")\n",
    "\n",
    "for attr in attributes_track:\n",
    "    output_track.write(attr)\n",
    "    output_track.write(\",\")\n",
    "output_track.write(\"\\n\")\n"
   ]
  },
  {
   "cell_type": "markdown",
   "id": "246766ba",
   "metadata": {},
   "source": [
    "## Phần chương trình chính "
   ]
  },
  {
   "cell_type": "code",
   "execution_count": 8,
   "id": "f1ccba30",
   "metadata": {},
   "outputs": [
    {
     "name": "stdout",
     "output_type": "stream",
     "text": [
      "total: 2571\n",
      "#########% 100\n",
      "#########% 200\n",
      "#########% 300\n",
      "#########% 400\n",
      "#########% 500\n",
      "#########% 600\n",
      "#########% 700\n",
      "#########% 800\n",
      "#########% 900\n",
      "#########% 1000\n",
      "#########% 1100\n",
      "#########% 1200\n",
      "#########% 1300\n",
      "#########% 1400\n",
      "#########% 1500\n",
      "#########% 1600\n",
      "#########% 1700\n",
      "#########% 1800\n",
      "#########% 1900\n",
      "#########% 2000\n",
      "#########% 2100\n",
      "#########% 2200\n",
      "#########% 2300\n",
      "#########% 2400\n",
      "#########% 2500\n",
      "#######finish\n"
     ]
    }
   ],
   "source": [
    "users_urls = []\n",
    "users_urls_file = \"good_user.txt\"\n",
    "with open(users_urls_file) as f:\n",
    "    for line in f:\n",
    "        users_urls.append(line.replace(\"\\n\",\"\"))\n",
    "\n",
    "\n",
    "step = 0\n",
    "users_urls.append(\"\")\n",
    "\n",
    "driver1.get(users_urls[0]+\"/sets\")\n",
    "time.sleep(1.5)\n",
    "prev_url = users_urls[0]\n",
    "print(\"total:\",len(users_urls))\n",
    "for url in users_urls:\n",
    "    try:\n",
    "        step+=1\n",
    "        if step % 100==0:\n",
    "            print(\"%\",step)\n",
    "#             break\n",
    "        else:\n",
    "            if step %10==0:\n",
    "                print(\"#\",end=\"\")\n",
    "#                 break\n",
    "\n",
    "        if step == 1: \n",
    "            continue\n",
    "        Have_playlist = True\n",
    "        if url==\"\":\n",
    "            if i%2==0:\n",
    "                Have_playlist = write_file_playlist(driver1.page_source)\n",
    "            else:\n",
    "                Have_playlist = write_file_playlist(driver2.page_source)\n",
    "        \n",
    "        if step%2==0:\n",
    "            driver2.get(url+\"/sets\")  # playlist nằm ở \"https://soundcloud.com/<username>/sets\"\n",
    "            Have_playlist = write_file_playlist(driver1.page_source)\n",
    "        else:\n",
    "            driver1.get(url+\"/sets\")\n",
    "            Have_playlist = write_file_playlist(driver2.page_source)\n",
    "            \n",
    "        if not Have_playlist:\n",
    "            driver3.get(prev_url+\"/tracks\") # track nằm ở \"https://soundcloud.com/<username>/tracks\"\n",
    "            time.sleep(0.5)\n",
    "            dont_have_playlist(driver3.page_source)\n",
    "            \n",
    "        prev_url = url\n",
    "    except:\n",
    "        continue\n",
    "    \n",
    "print(\"finish\")\n",
    "output_playlist.close()\n",
    "output_track.close()"
   ]
  },
  {
   "cell_type": "markdown",
   "id": "51a99df7",
   "metadata": {},
   "source": [
    "### Ở đây, chúng tôi sử dụng 3 driven để tiết kiệm thời gian. Giúp cho trong chương trình không xuất hiện thời gian chết.\n",
    "\n",
    "### Ở phần chương trình chính, chủ yếu là điều phối sao cho 3 driven hoạt động trơn tru nhất có thể. "
   ]
  },
  {
   "cell_type": "code",
   "execution_count": null,
   "id": "c89f82ab",
   "metadata": {},
   "outputs": [],
   "source": []
  }
 ],
 "metadata": {
  "kernelspec": {
   "display_name": "Python 3 (ipykernel)",
   "language": "python",
   "name": "python3"
  },
  "language_info": {
   "codemirror_mode": {
    "name": "ipython",
    "version": 3
   },
   "file_extension": ".py",
   "mimetype": "text/x-python",
   "name": "python",
   "nbconvert_exporter": "python",
   "pygments_lexer": "ipython3",
   "version": "3.7.9"
  }
 },
 "nbformat": 4,
 "nbformat_minor": 5
}
